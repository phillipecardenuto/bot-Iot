{
 "cells": [
  {
   "cell_type": "markdown",
   "metadata": {},
   "source": [
    "# Telegram BOT\n",
    "## In this Notebook we aim to develop a simple I/O bot from Telegram\n"
   ]
  },
  {
   "cell_type": "markdown",
   "metadata": {},
   "source": [
    "![logo](https://raw.githubusercontent.com/python-telegram-bot/logos/master/logo-text/png/ptb-logo-text_768.png)"
   ]
  },
  {
   "cell_type": "markdown",
   "metadata": {},
   "source": [
    "We are using https://github.com/python-telegram-bot/python-telegram-bot api"
   ]
  },
  {
   "cell_type": "markdown",
   "metadata": {},
   "source": [
    "Introduction to the library https://github.com/python-telegram-bot/python-telegram-bot/wiki/Introduction-to-the-API"
   ]
  },
  {
   "cell_type": "code",
   "execution_count": 1,
   "metadata": {},
   "outputs": [],
   "source": [
    "import logging\n",
    "import telegram\n",
    "from telegram.ext import CommandHandler\n",
    "from telegram.ext import Updater\n",
    "import pandas as pd\n",
    "import re\n",
    "import datetime\n",
    "import paho.mqtt.client as mqtt\n",
    "import json\n",
    "# Setting up logger\n",
    "logging.basicConfig(level=logging.DEBUG,\n",
    "                    format='%(asctime)s - %(name)s - %(levelname)s - %(message)s')\n",
    "logger = logging.getLogger()\n",
    "logger.setLevel(logging.INFO)\n",
    "#token_telegram = '666164429:AAFPkMnbqRKXqCPvv-OtycJ5K5y4RQ3k_U4'\n",
    "token_vina = '850097657:AAHEHdl6HrpDYKb2_9nKPFDx1eQkBMyW7xg'\n",
    "bot = telegram.Bot(token=token_vina)\n",
    "\n",
    "##### CLIENT MQTT\n",
    "user = \"ou83rio3h43j\"\n",
    "password = \"anioaDro9R87\"\n",
    "publishAddress = \"data/ou83rio3h43j/pub/out\"\n",
    "client = mqtt.Client()\n",
    "client.username_pw_set(user, password)"
   ]
  },
  {
   "cell_type": "code",
   "execution_count": 2,
   "metadata": {},
   "outputs": [],
   "source": [
    "# Funções de Crawler do Cardápio \n",
    "global guarnicao \n",
    "global prato_principal \n",
    "global salada \n",
    "global sobremesa \n",
    "global suco \n",
    "global obs \n",
    "guarnicao= \"GUARNIÇÃO\"\n",
    "prato_principal= \"PRATO PRINCIPAL:\"\n",
    "salada= \"SALADA:\"\n",
    "sobremesa= \"SOBREMESA:\"\n",
    "suco= \"SUCO:\"\n",
    "obs= \"OBSERVAÇÕES:\"\n",
    "def extrai_refeicao(ref,ref_op):\n",
    "    if ref_op == guarnicao and prato_principal in ref :\n",
    "        return ref[0:ref.find(prato_principal)].strip()\n",
    "    if ref_op == prato_principal and prato_principal in ref and salada in ref:\n",
    "        pp = ref.find(prato_principal) + len(prato_principal)\n",
    "        return ref[pp:ref.find(salada)].strip()\n",
    "    elif ref_op == salada and salada in ref and sobremesa in ref:\n",
    "        sp = ref.find(salada) + len(salada)\n",
    "        return ref[sp:ref.find(sobremesa)].strip()\n",
    "    elif ref_op == sobremesa and sobremesa in ref and suco in ref:\n",
    "        sp = ref.find(sobremesa) + len(sobremesa)\n",
    "        return ref[sp:ref.find(suco)].strip()\n",
    "    elif ref_op == suco and suco in ref and obs in ref:\n",
    "        sp = ref.find(suco) + len(suco)\n",
    "        return ref[sp:ref.find(obs)].strip()\n",
    "    elif ref_op == obs and obs in ref:\n",
    "        op = ref.find(obs) + len(obs)\n",
    "        return ref[op:].strip()\n",
    "    else: return \"\"\n",
    "def cardapio_em_dia(dia_cardapio,hoje):\n",
    "    \"\"\"\n",
    "    retorna  True se estiver atualizado\n",
    "    retorna False se estiver desatualizado\n",
    "    \"\"\"\n",
    "    d_dia_cardapio = datetime.datetime(year=dia_cardapio[2],month=dia_cardapio[1],day=dia_cardapio[0])\n",
    "    d_hoje = datetime.datetime(year=hoje[2],month=hoje[1],day=hoje[0])\n",
    "    if d_dia_cardapio >= d_hoje:\n",
    "        return True\n",
    "    return False\n",
    "def atualiza_cardapio():\n",
    "    \"\"\"\n",
    "    Verifica e atualiza o cardápio \n",
    "    \"\"\"\n",
    "    hoje = datetime.datetime.now()\n",
    "    hoje = [hoje.day,hoje.month,hoje.year]\n",
    "    if not \"dia_cardapio\" in globals():\n",
    "        global dia_cardapio\n",
    "        dia_cardapio = []\n",
    "    if hoje != dia_cardapio:\n",
    "        if dia_cardapio == []:\n",
    "            atualiza_tabela_cardapio()\n",
    "        elif not cardapio_em_dia(dia_cardapio,hoje):\n",
    "            atualiza_tabela_cardapio()\n",
    "def atualiza_tabela_cardapio():\n",
    "    global almoco\n",
    "    global almoco_veg\n",
    "    global jantar\n",
    "    global jantar_veg\n",
    "    global cafe\n",
    "    global dia_semana\n",
    "    global dia_cardapio\n",
    "    \n",
    "    # Scrapy data\n",
    "    tables = pd.read_html(\"https://www.prefeitura.unicamp.br/apps/site/cardapio.php\")\n",
    "    \n",
    "    # Parsing das refeições\n",
    "    cardapio = tables[1].loc[2:].copy()\n",
    "    cardapio_header = cardapio.iloc[0]\n",
    "    cardapio_header.name = ''\n",
    "    cardapio = pd.DataFrame(cardapio.values[1:], columns=cardapio_header)\n",
    "    cafe = tables[1].loc[0:1].copy()\n",
    "    cafe = cafe.drop(cafe.columns[1:],axis=1)\n",
    "    cafe_header =cafe.iloc[0]\n",
    "    cafe = cafe.iloc[1]\n",
    "    cafe_header.name = ''\n",
    "    cafe = pd.DataFrame(cafe.values, columns=cafe_header)\n",
    "    cardapio = pd.concat([cardapio, cafe],axis=1)\n",
    "    data = tables[0][0][0]\n",
    "    \n",
    "    # REFEIÇÕES\n",
    "    almoco = cardapio[\"Almoço\"].values[0].upper()\n",
    "    almoco_veg = cardapio[\"Almoço Vegetariano\"].values[0].upper()\n",
    "    jantar = cardapio[\"Jantar\"].values[0].upper()\n",
    "    jantar_veg = cardapio[\"Jantar Vegetariano\"].values[0].upper()\n",
    "    cafe = cardapio[\"Café da manhã\"].values[0].upper()\n",
    "    dia_cardapio = [int(data) for data in (re.findall('\\d{2}/\\d{2}/\\d{4}',data)[0].split(\"/\")) ] \n",
    "    dia_semana = data[data.find(\"(\")+1:data.find(\")\")]"
   ]
  },
  {
   "cell_type": "code",
   "execution_count": 3,
   "metadata": {
    "collapsed": true
   },
   "outputs": [],
   "source": [
    "# Funções de Handler do BOT\n",
    "def start(bot,update):\n",
    "    user_name = update.message.chat.first_name\n",
    "    message= \"Hello %s\\n\"%(user_name)\n",
    "    bot.send_message(chat_id=update.message.chat_id, text=message)\n",
    "    print(update)\n",
    "def almoco_bot(bot,update):\n",
    "    atualiza_cardapio()\n",
    "    user_name = update.message.chat.first_name\n",
    "    message= \"\"\"\n",
    "Olá %s,\n",
    "Almoço de %s (%s) teremos:\n",
    "-Guarnição: %s\n",
    "\n",
    "-Prato Principal: %s\n",
    "\n",
    "-Salada: %s\n",
    "\n",
    "-Sobremesa: %s\n",
    "\n",
    "-Suco: %s\n",
    "                     \n",
    "Obs: %s\"\"\"%(\n",
    "        user_name,\n",
    "        \"%d/%d/%d\"%(dia_cardapio[0],dia_cardapio[1],dia_cardapio[2]),\n",
    "        dia_semana,\n",
    "        extrai_refeicao(almoco,guarnicao),\n",
    "        extrai_refeicao(almoco,prato_principal),\n",
    "        extrai_refeicao(almoco,salada),\n",
    "        extrai_refeicao(almoco,sobremesa),\n",
    "        extrai_refeicao(almoco,suco),\n",
    "        extrai_refeicao(almoco,obs)\n",
    ")\n",
    "    bot.send_message(chat_id=update.message.chat_id, text=message)\n",
    "def almoco_veg_bot(bot,update):\n",
    "    atualiza_cardapio()\n",
    "    user_name = update.message.chat.first_name\n",
    "    message= \"\"\"\n",
    "Olá %s,\n",
    "Almoço Veg de %s (%s) teremos:\n",
    "-Guarnição: %s\n",
    "\n",
    "-Prato Principal: %s\n",
    "\n",
    "-Salada: %s\n",
    "\n",
    "-Sobremesa: %s\n",
    "\n",
    "-Suco: %s\n",
    "                     \n",
    "Obs: %s\"\"\"%(\n",
    "        user_name,\n",
    "        \"%d/%d/%d\"%(dia_cardapio[0],dia_cardapio[1],dia_cardapio[2]),\n",
    "        dia_semana,\n",
    "        extrai_refeicao(almoco,guarnicao),\n",
    "        extrai_refeicao(almoco,prato_principal),\n",
    "        extrai_refeicao(almoco,salada),\n",
    "        extrai_refeicao(almoco,sobremesa),\n",
    "        extrai_refeicao(almoco,suco),\n",
    "        extrai_refeicao(almoco,obs)\n",
    ") \n",
    "    bot.send_message(chat_id=update.message.chat_id, text=message)\n",
    "def jantar_bot(bot,update):\n",
    "    atualiza_cardapio()\n",
    "    user_name = update.message.chat.first_name\n",
    "    message= \"\"\"\n",
    "Olá %s,\n",
    "Jantar de %s (%s) teremos:\n",
    "-Guarnição: %s\n",
    "\n",
    "-Prato Principal: %s\n",
    "\n",
    "-Salada: %s\n",
    "\n",
    "-Sobremesa: %s\n",
    "\n",
    "-Suco: %s\n",
    "                     \n",
    "Obs: %s\"\"\"%(\n",
    "        user_name,\n",
    "        \"%d/%d/%d\"%(dia_cardapio[0],dia_cardapio[1],dia_cardapio[2]),\n",
    "        dia_semana,\n",
    "        extrai_refeicao(almoco,guarnicao),\n",
    "        extrai_refeicao(almoco,prato_principal),\n",
    "        extrai_refeicao(almoco,salada),\n",
    "        extrai_refeicao(almoco,sobremesa),\n",
    "        extrai_refeicao(almoco,suco),\n",
    "        extrai_refeicao(almoco,obs)\n",
    ")\n",
    "    bot.send_message(chat_id=update.message.chat_id, text=message)\n",
    "def jantar_veg_bot(bot,update):\n",
    "    atualiza_cardapio()\n",
    "    user_name = update.message.chat.first_name\n",
    "    message= \"\"\"\n",
    "Olá %s,\n",
    "Jantar Veg de %s (%s) teremos:\n",
    "-Guarnição: %s\n",
    "\n",
    "-Prato Principal: %s\n",
    "\n",
    "-Salada: %s\n",
    "\n",
    "-Sobremesa: %s\n",
    "\n",
    "-Suco: %s\n",
    "                     \n",
    "Obs: %s\"\"\"%(\n",
    "        user_name,\n",
    "        \"%d/%d/%d\"%(dia_cardapio[0],dia_cardapio[1],dia_cardapio[2]),\n",
    "        dia_semana,\n",
    "        extrai_refeicao(almoco,guarnicao),\n",
    "        extrai_refeicao(almoco,prato_principal),\n",
    "        extrai_refeicao(almoco,salada),\n",
    "        extrai_refeicao(almoco,sobremesa),\n",
    "        extrai_refeicao(almoco,suco),\n",
    "        extrai_refeicao(almoco,obs)\n",
    ")\n",
    "    bot.send_message(chat_id=update.message.chat_id, text=message)\n",
    "def cafe_bot(bot,update):\n",
    "    atualiza_cardapio()\n",
    "    user_name = update.message.chat.first_name\n",
    "    message= \"\"\"\n",
    "Olá %s,\n",
    "Café da Manhã de %s (%s) teremos:\n",
    "%s \"\"\"%(\n",
    "        user_name,\n",
    "        \"%d/%d/%d\"%(dia_cardapio[0],dia_cardapio[1],dia_cardapio[2]),\n",
    "        dia_semana,\n",
    "        cafe\n",
    ")\n",
    "    bot.send_message(chat_id=update.message.chat_id, text=message)\n",
    "    \n",
    "def publish(bot,update):\n",
    "    client.connect(\"mqtt.demo.konkerlabs.net\", 1883)\n",
    "    client.publish(publishAddress, \n",
    "                 json.dumps({\"temperature\": \"BOOM!\", \"unit\": \"celsius\"}))\n",
    "    bot.send_message(chat_id=update.message.chat_id, text=\"BOOM!\")\n",
    "    print(\"BOOM!\")\n",
    "def get_temp(bot,update):\n",
    "    bot.send_message(chat_id=update.message.chat_id, text=\"BOOM!\")\n",
    "    print(\"TEMP = 20\")\n",
    "def get_hum():\n",
    "    return \"HUM = 20\"\n",
    "def print_display():\n",
    "    return \"PRINT DISP\""
   ]
  },
  {
   "cell_type": "code",
   "execution_count": 4,
   "metadata": {},
   "outputs": [
    {
     "data": {
      "text/plain": [
       "<queue.Queue at 0x7ff43b4bc278>"
      ]
     },
     "execution_count": 4,
     "metadata": {},
     "output_type": "execute_result"
    }
   ],
   "source": [
    "updater = Updater(token=token_vina)\n",
    "dispatcher =  updater.dispatcher\n",
    "#publish_handler = CommandHandler('publish',publish)\n",
    "almoco_handler = CommandHandler('almoco',almoco_bot)\n",
    "almoco_veg_handler = CommandHandler('almoco_veg',almoco_veg_bot)\n",
    "jantar_handler = CommandHandler('jantar',jantar_bot)\n",
    "jantar_veg_handler = CommandHandler('jantar_veg',jantar_veg_bot)\n",
    "cafe_handler = CommandHandler('cafe',cafe_bot)\n",
    "start_handler = CommandHandler('start',start)\n",
    "dispatcher.add_handler(almoco_handler)\n",
    "dispatcher.add_handler(almoco_veg_handler)\n",
    "dispatcher.add_handler(jantar_handler)\n",
    "dispatcher.add_handler(jantar_veg_handler)\n",
    "dispatcher.add_handler(cafe_handler)\n",
    "dispatcher.add_handler(start_handler)\n",
    "#dispatcher.add_handler(publish_handler)\n",
    "updater.start_polling()"
   ]
  },
  {
   "cell_type": "code",
   "execution_count": null,
   "metadata": {},
   "outputs": [],
   "source": [
    "updater.stop()\n",
    "updater.idle()"
   ]
  },
  {
   "cell_type": "code",
   "execution_count": 17,
   "metadata": {},
   "outputs": [
    {
     "name": "stdout",
     "output_type": "stream",
     "text": [
      "[]\n",
      "{'update_id': 757098524, 'message': {'message_id': 55, 'date': 1558015657, 'chat': {'id': 191481115, 'type': 'private', 'first_name': 'João Phillipe'}, 'text': '/start', 'entities': [{'type': 'bot_command', 'offset': 0, 'length': 6}], 'caption_entities': [], 'photo': [], 'new_chat_members': [], 'new_chat_photo': [], 'delete_chat_photo': False, 'group_chat_created': False, 'supergroup_chat_created': False, 'channel_chat_created': False, 'from': {'id': 191481115, 'first_name': 'João Phillipe', 'is_bot': False, 'language_code': 'en'}}}\n"
     ]
    }
   ],
   "source": [
    "updates = bot.get_updates()\n",
    "print([u.message.text for u in updates])"
   ]
  },
  {
   "cell_type": "markdown",
   "metadata": {},
   "source": [
    "#### Command Handler"
   ]
  },
  {
   "cell_type": "markdown",
   "metadata": {},
   "source": [
    "# MQTT BOT"
   ]
  },
  {
   "cell_type": "markdown",
   "metadata": {},
   "source": [
    "### Publisher"
   ]
  },
  {
   "cell_type": "code",
   "execution_count": 9,
   "metadata": {},
   "outputs": [
    {
     "data": {
      "text/plain": [
       "0"
      ]
     },
     "execution_count": 9,
     "metadata": {},
     "output_type": "execute_result"
    },
    {
     "name": "stderr",
     "output_type": "stream",
     "text": [
      "2019-05-14 17:24:06,292 - telegram.vendor.ptb_urllib3.urllib3.connectionpool - WARNING - Retrying (Retry(total=2, connect=None, read=None, redirect=None)) after connection broken by 'ConnectTimeoutError(<telegram.vendor.ptb_urllib3.urllib3.connectionpool.HTTPSConnectionPool object at 0x7ff206637e48>, 'Connect timed out. (connect timeout=5.0)')': /bot850097657:AAHEHdl6HrpDYKb2_9nKPFDx1eQkBMyW7xg/getUpdates\n"
     ]
    }
   ],
   "source": [
    "import paho.mqtt.client as mqtt\n",
    "import json\n",
    "\n",
    "\n",
    "user = \"ou83rio3h43j\"\n",
    "password = \"anioaDro9R87\"\n",
    "publishAddress = \"data/ou83rio3h43j/pub/out\"\n",
    "\n",
    "client = mqtt.Client()\n",
    "client.username_pw_set(user, password)\n",
    "client.connect(\"mqtt.demo.konkerlabs.net\", 1883)"
   ]
  },
  {
   "cell_type": "code",
   "execution_count": 28,
   "metadata": {},
   "outputs": [
    {
     "data": {
      "text/plain": [
       "<paho.mqtt.client.MQTTMessageInfo at 0x7fcf24112b88>"
      ]
     },
     "execution_count": 28,
     "metadata": {},
     "output_type": "execute_result"
    }
   ],
   "source": [
    "import paho.mqtt.client as mqtt\n",
    "import json\n",
    "user = \"j9j976fenpqs\"\n",
    "password = \"IjzR8T18LJty\"\n",
    "publishAddress = \"data/j9j976fenpqs/pub/out\"\n",
    "\n",
    "\n",
    "# user = \"ou83rio3h43j\"\n",
    "# password = \"anioaDro9R87\"\n",
    "# publishAddress = \"data/ou83rio3h43j/pub/out\"\n",
    "\n",
    "client = mqtt.Client()\n",
    "client.username_pw_set(user, password)\n",
    "client.connect(\"mqtt.demo.konkerlabs.net\", 1883)\n",
    "client.publish(publishAddress, \n",
    "                 json.dumps({\"temperature\": 225, \"unit\": \"celsius\"}))"
   ]
  },
  {
   "cell_type": "markdown",
   "metadata": {},
   "source": [
    "### Subscriber"
   ]
  },
  {
   "cell_type": "code",
   "execution_count": 23,
   "metadata": {},
   "outputs": [
    {
     "name": "stdout",
     "output_type": "stream",
     "text": [
      "Connected!\n"
     ]
    },
    {
     "ename": "KeyboardInterrupt",
     "evalue": "",
     "output_type": "error",
     "traceback": [
      "\u001b[0;31m---------------------------------------------------------------------------\u001b[0m",
      "\u001b[0;31mKeyboardInterrupt\u001b[0m                         Traceback (most recent call last)",
      "\u001b[0;32m<ipython-input-23-d1bc56dd9133>\u001b[0m in \u001b[0;36m<module>\u001b[0;34m\u001b[0m\n\u001b[1;32m     15\u001b[0m \u001b[0mclient\u001b[0m\u001b[0;34m.\u001b[0m\u001b[0musername_pw_set\u001b[0m\u001b[0;34m(\u001b[0m\u001b[0muser\u001b[0m\u001b[0;34m,\u001b[0m \u001b[0mpassword\u001b[0m\u001b[0;34m)\u001b[0m\u001b[0;34m\u001b[0m\u001b[0;34m\u001b[0m\u001b[0m\n\u001b[1;32m     16\u001b[0m \u001b[0mclient\u001b[0m\u001b[0;34m.\u001b[0m\u001b[0mconnect\u001b[0m\u001b[0;34m(\u001b[0m\u001b[0;34m\"mqtt.demo.konkerlabs.net\"\u001b[0m\u001b[0;34m,\u001b[0m \u001b[0;36m1883\u001b[0m\u001b[0;34m)\u001b[0m\u001b[0;34m\u001b[0m\u001b[0;34m\u001b[0m\u001b[0m\n\u001b[0;32m---> 17\u001b[0;31m \u001b[0mclient\u001b[0m\u001b[0;34m.\u001b[0m\u001b[0mloop_forever\u001b[0m\u001b[0;34m(\u001b[0m\u001b[0;34m)\u001b[0m\u001b[0;34m\u001b[0m\u001b[0;34m\u001b[0m\u001b[0m\n\u001b[0m",
      "\u001b[0;32m~/anaconda3/envs/telegram/lib/python3.7/site-packages/paho/mqtt/client.py\u001b[0m in \u001b[0;36mloop_forever\u001b[0;34m(self, timeout, max_packets, retry_first_connection)\u001b[0m\n\u001b[1;32m   1576\u001b[0m             \u001b[0mrc\u001b[0m \u001b[0;34m=\u001b[0m \u001b[0mMQTT_ERR_SUCCESS\u001b[0m\u001b[0;34m\u001b[0m\u001b[0;34m\u001b[0m\u001b[0m\n\u001b[1;32m   1577\u001b[0m             \u001b[0;32mwhile\u001b[0m \u001b[0mrc\u001b[0m \u001b[0;34m==\u001b[0m \u001b[0mMQTT_ERR_SUCCESS\u001b[0m\u001b[0;34m:\u001b[0m\u001b[0;34m\u001b[0m\u001b[0;34m\u001b[0m\u001b[0m\n\u001b[0;32m-> 1578\u001b[0;31m                 \u001b[0mrc\u001b[0m \u001b[0;34m=\u001b[0m \u001b[0mself\u001b[0m\u001b[0;34m.\u001b[0m\u001b[0mloop\u001b[0m\u001b[0;34m(\u001b[0m\u001b[0mtimeout\u001b[0m\u001b[0;34m,\u001b[0m \u001b[0mmax_packets\u001b[0m\u001b[0;34m)\u001b[0m\u001b[0;34m\u001b[0m\u001b[0;34m\u001b[0m\u001b[0m\n\u001b[0m\u001b[1;32m   1579\u001b[0m                 \u001b[0;31m# We don't need to worry about locking here, because we've\u001b[0m\u001b[0;34m\u001b[0m\u001b[0;34m\u001b[0m\u001b[0;34m\u001b[0m\u001b[0m\n\u001b[1;32m   1580\u001b[0m                 \u001b[0;31m# either called loop_forever() when in single threaded mode, or\u001b[0m\u001b[0;34m\u001b[0m\u001b[0;34m\u001b[0m\u001b[0;34m\u001b[0m\u001b[0m\n",
      "\u001b[0;32m~/anaconda3/envs/telegram/lib/python3.7/site-packages/paho/mqtt/client.py\u001b[0m in \u001b[0;36mloop\u001b[0;34m(self, timeout, max_packets)\u001b[0m\n\u001b[1;32m   1055\u001b[0m         \u001b[0mrlist\u001b[0m \u001b[0;34m=\u001b[0m \u001b[0;34m[\u001b[0m\u001b[0mself\u001b[0m\u001b[0;34m.\u001b[0m\u001b[0m_sock\u001b[0m\u001b[0;34m,\u001b[0m \u001b[0mself\u001b[0m\u001b[0;34m.\u001b[0m\u001b[0m_sockpairR\u001b[0m\u001b[0;34m]\u001b[0m\u001b[0;34m\u001b[0m\u001b[0;34m\u001b[0m\u001b[0m\n\u001b[1;32m   1056\u001b[0m         \u001b[0;32mtry\u001b[0m\u001b[0;34m:\u001b[0m\u001b[0;34m\u001b[0m\u001b[0;34m\u001b[0m\u001b[0m\n\u001b[0;32m-> 1057\u001b[0;31m             \u001b[0msocklist\u001b[0m \u001b[0;34m=\u001b[0m \u001b[0mselect\u001b[0m\u001b[0;34m.\u001b[0m\u001b[0mselect\u001b[0m\u001b[0;34m(\u001b[0m\u001b[0mrlist\u001b[0m\u001b[0;34m,\u001b[0m \u001b[0mwlist\u001b[0m\u001b[0;34m,\u001b[0m \u001b[0;34m[\u001b[0m\u001b[0;34m]\u001b[0m\u001b[0;34m,\u001b[0m \u001b[0mtimeout\u001b[0m\u001b[0;34m)\u001b[0m\u001b[0;34m\u001b[0m\u001b[0;34m\u001b[0m\u001b[0m\n\u001b[0m\u001b[1;32m   1058\u001b[0m         \u001b[0;32mexcept\u001b[0m \u001b[0mTypeError\u001b[0m\u001b[0;34m:\u001b[0m\u001b[0;34m\u001b[0m\u001b[0;34m\u001b[0m\u001b[0m\n\u001b[1;32m   1059\u001b[0m             \u001b[0;31m# Socket isn't correct type, in likelihood connection is lost\u001b[0m\u001b[0;34m\u001b[0m\u001b[0;34m\u001b[0m\u001b[0;34m\u001b[0m\u001b[0m\n",
      "\u001b[0;31mKeyboardInterrupt\u001b[0m: "
     ]
    }
   ],
   "source": [
    "import paho.mqtt.client as mqtt\n",
    "import json\n",
    "\n",
    "\n",
    "user = \"ou83rio3h43j\"\n",
    "password = \"anioaDro9R87\"\n",
    "def on_connect(client, userdata, flags, rc):\n",
    "    print(\"Connected!\")\n",
    "    client.subscribe(\"data/ou83rio3h43j/sub/in\")\n",
    "\n",
    "def on_message(client, data, msg):\n",
    "    print(msg.topic + \" \" + str(msg.payload))\n",
    "\n",
    "\n",
    "client = mqtt.Client()\n",
    "client.on_message = on_message\n",
    "client.on_connect = on_connect\n",
    "client.username_pw_set(user, password)\n",
    "client.connect(\"mqtt.demo.konkerlabs.net\", 1883)\n",
    "client.loop_forever()"
   ]
  }
 ],
 "metadata": {
  "kernelspec": {
   "display_name": "PY-Telegram",
   "language": "python",
   "name": "telegram"
  },
  "language_info": {
   "codemirror_mode": {
    "name": "ipython",
    "version": 3
   },
   "file_extension": ".py",
   "mimetype": "text/x-python",
   "name": "python",
   "nbconvert_exporter": "python",
   "pygments_lexer": "ipython3",
   "version": "3.7.2"
  }
 },
 "nbformat": 4,
 "nbformat_minor": 2
}
