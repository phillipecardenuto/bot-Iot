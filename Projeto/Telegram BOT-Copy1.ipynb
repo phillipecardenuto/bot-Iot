{
 "cells": [
  {
   "cell_type": "markdown",
   "metadata": {},
   "source": [
    "# Telegram BOT\n",
    "## In this Notebook we aim to develop a simple I/O bot from Telegram\n"
   ]
  },
  {
   "cell_type": "markdown",
   "metadata": {},
   "source": [
    "![logo](https://raw.githubusercontent.com/python-telegram-bot/logos/master/logo-text/png/ptb-logo-text_768.png)"
   ]
  },
  {
   "cell_type": "markdown",
   "metadata": {},
   "source": [
    "We are using https://github.com/python-telegram-bot/python-telegram-bot api"
   ]
  },
  {
   "cell_type": "markdown",
   "metadata": {},
   "source": [
    "Introduction to the library https://github.com/python-telegram-bot/python-telegram-bot/wiki/Introduction-to-the-API"
   ]
  },
  {
   "cell_type": "code",
   "execution_count": 3,
   "metadata": {
    "collapsed": true
   },
   "outputs": [],
   "source": [
    "import logging\n",
    "logging.basicConfig(level=logging.DEBUG,\n",
    "                    format='%(asctime)s - %(name)s - %(levelname)s - %(message)s')\n",
    "logger = logging.getLogger()\n",
    "logger.setLevel(logging.INFO)"
   ]
  },
  {
   "cell_type": "code",
   "execution_count": 5,
   "metadata": {
    "collapsed": true
   },
   "outputs": [],
   "source": [
    "import telegram\n",
    "token_telegram = '666164429:AAFPkMnbqRKXqCPvv-OtycJ5K5y4RQ3k_U4'\n",
    "bot = telegram.Bot(token=token_telegram)"
   ]
  },
  {
   "cell_type": "code",
   "execution_count": 6,
   "metadata": {},
   "outputs": [
    {
     "name": "stdout",
     "output_type": "stream",
     "text": [
      "{'id': 666164429, 'first_name': 'SCIBOT', 'is_bot': True, 'username': 'sci_bot'}\n"
     ]
    }
   ],
   "source": [
    "print(bot.get_me())"
   ]
  },
  {
   "cell_type": "code",
   "execution_count": 7,
   "metadata": {
    "collapsed": true
   },
   "outputs": [],
   "source": [
    "updates = bot.get_updates()"
   ]
  },
  {
   "cell_type": "code",
   "execution_count": 8,
   "metadata": {},
   "outputs": [
    {
     "name": "stdout",
     "output_type": "stream",
     "text": [
      "[]\n"
     ]
    }
   ],
   "source": [
    "print([u.message.text for u in updates])"
   ]
  },
  {
   "cell_type": "code",
   "execution_count": 12,
   "metadata": {
    "collapsed": true
   },
   "outputs": [],
   "source": [
    "chat_id = bot.get_updates()[-1].message.chat_id"
   ]
  },
  {
   "cell_type": "code",
   "execution_count": 13,
   "metadata": {},
   "outputs": [
    {
     "data": {
      "text/plain": [
       "191481115"
      ]
     },
     "execution_count": 13,
     "metadata": {},
     "output_type": "execute_result"
    }
   ],
   "source": [
    "chat_id"
   ]
  },
  {
   "cell_type": "code",
   "execution_count": 16,
   "metadata": {},
   "outputs": [
    {
     "data": {
      "text/plain": [
       "<telegram.message.Message at 0x7fc5284c5eb8>"
      ]
     },
     "execution_count": 16,
     "metadata": {},
     "output_type": "execute_result"
    }
   ],
   "source": [
    "bot.send_message(chat_id,\"How about this?\")"
   ]
  },
  {
   "cell_type": "code",
   "execution_count": 17,
   "metadata": {},
   "outputs": [
    {
     "name": "stdout",
     "output_type": "stream",
     "text": [
      "['/start', 'dd']\n"
     ]
    }
   ],
   "source": [
    "updates = bot.get_updates()\n",
    "print([u.message.text for u in updates])"
   ]
  },
  {
   "cell_type": "code",
   "execution_count": 18,
   "metadata": {},
   "outputs": [
    {
     "data": {
      "text/plain": [
       "<telegram.message.Message at 0x7fc528510dd8>"
      ]
     },
     "execution_count": 18,
     "metadata": {},
     "output_type": "execute_result"
    }
   ],
   "source": [
    "bot.send_photo(chat_id=chat_id, photo='https://raw.githubusercontent.com/python-telegram-bot/logos/master/logo-text/png/ptb-logo-text_768.png')"
   ]
  },
  {
   "cell_type": "code",
   "execution_count": 20,
   "metadata": {},
   "outputs": [
    {
     "data": {
      "text/plain": [
       "<telegram.message.Message at 0x7fc5284d30f0>"
      ]
     },
     "execution_count": 20,
     "metadata": {},
     "output_type": "execute_result"
    }
   ],
   "source": [
    "bot.send_document(chat_id, document=open('07154457.pdf','rb'))"
   ]
  },
  {
   "cell_type": "markdown",
   "metadata": {},
   "source": [
    "## Mensage Handler"
   ]
  },
  {
   "cell_type": "code",
   "execution_count": 3,
   "metadata": {
    "collapsed": true
   },
   "outputs": [],
   "source": [
    "from telegram.ext import CommandHandler\n",
    "from telegram.ext import Updater\n",
    "bot_token = '666164429:AAFPkMnbqRKXqCPvv-OtycJ5K5y4RQ3k_U4'\n",
    "updater = Updater(token=bot_token)"
   ]
  },
  {
   "cell_type": "code",
   "execution_count": null,
   "metadata": {
    "collapsed": true
   },
   "outputs": [],
   "source": [
    "dispatcher =  updater.dispatcher"
   ]
  },
  {
   "cell_type": "markdown",
   "metadata": {},
   "source": [
    "#### Command Handler"
   ]
  },
  {
   "cell_type": "code",
   "execution_count": 15,
   "metadata": {
    "collapsed": true
   },
   "outputs": [],
   "source": [
    "from  subprocess import call"
   ]
  },
  {
   "cell_type": "code",
   "execution_count": 18,
   "metadata": {
    "collapsed": true
   },
   "outputs": [],
   "source": [
    "def blow_world(bot, update):\n",
    "    bot.send_message(chat_id=update.message.chat_id, text=\"BOOM!\")\n",
    "def turnoff(bot,update):\n",
    "    print(\"TURNING OFF\")\n",
    "    call(\"shutdown now -P\",shell=True)"
   ]
  },
  {
   "cell_type": "code",
   "execution_count": 9,
   "metadata": {
    "collapsed": true
   },
   "outputs": [],
   "source": [
    "blow_world_handler = CommandHandler('world', blow_world)\n",
    "dispatcher.add_handler(blow_world_handler)"
   ]
  },
  {
   "cell_type": "code",
   "execution_count": 19,
   "metadata": {
    "collapsed": true
   },
   "outputs": [],
   "source": [
    "off_handler = CommandHandler('turnoff', turnoff)\n",
    "dispatcher.add_handler(off_handler)"
   ]
  },
  {
   "cell_type": "code",
   "execution_count": 20,
   "metadata": {},
   "outputs": [
    {
     "name": "stdout",
     "output_type": "stream",
     "text": [
      "TURNING OFF\n"
     ]
    }
   ],
   "source": [
    "updater.start_polling() # Set It into the pool"
   ]
  },
  {
   "cell_type": "code",
   "execution_count": 6,
   "metadata": {
    "collapsed": true
   },
   "outputs": [],
   "source": [
    "from telegram.ext import MessageHandler, Filters\n",
    "blow_world_handler = MessageHandler(Filters.text, blow_world)\n",
    "dispatcher.add_handler(blow_world_handler)"
   ]
  },
  {
   "cell_type": "code",
   "execution_count": 7,
   "metadata": {},
   "outputs": [
    {
     "data": {
      "text/plain": [
       "{0: [<telegram.ext.messagehandler.MessageHandler at 0x7faae42cc2e8>]}"
      ]
     },
     "execution_count": 7,
     "metadata": {},
     "output_type": "execute_result"
    }
   ],
   "source": [
    "dispatcher.handlers"
   ]
  },
  {
   "cell_type": "code",
   "execution_count": 35,
   "metadata": {},
   "outputs": [
    {
     "data": {
      "text/plain": [
       "<telegram.ext.messagehandler.MessageHandler at 0x7fb91d964ba8>"
      ]
     },
     "execution_count": 35,
     "metadata": {},
     "output_type": "execute_result"
    }
   ],
   "source": [
    "blow_world_handler"
   ]
  },
  {
   "cell_type": "code",
   "execution_count": null,
   "metadata": {
    "collapsed": true
   },
   "outputs": [],
   "source": []
  },
  {
   "cell_type": "markdown",
   "metadata": {},
   "source": [
    "# MQTT BOT"
   ]
  },
  {
   "cell_type": "markdown",
   "metadata": {},
   "source": [
    "### Publisher"
   ]
  },
  {
   "cell_type": "code",
   "execution_count": 27,
   "metadata": {},
   "outputs": [
    {
     "data": {
      "text/plain": [
       "<paho.mqtt.client.MQTTMessageInfo at 0x7fcf2b3dc7c8>"
      ]
     },
     "execution_count": 27,
     "metadata": {},
     "output_type": "execute_result"
    }
   ],
   "source": [
    "import paho.mqtt.client as mqtt\n",
    "import json\n",
    "user = \"j9j976fenpqs\"\n",
    "password = \"IjzR8T18LJty\"\n",
    "publishAddress = \"data/j9j976fenpqs/pub/out\"\n",
    "\n",
    "\n",
    "# user = \"ou83rio3h43j\"\n",
    "# password = \"anioaDro9R87\"\n",
    "# publishAddress = \"data/ou83rio3h43j/pub/out\"\n",
    "\n",
    "client = mqtt.Client()\n",
    "client.username_pw_set(user, password)\n",
    "client.connect(\"mqtt.demo.konkerlabs.net\", 1883)\n",
    "client.publish(publishAddress, \n",
    "                 json.dumps({\"temperature\": 225, \"unit\": \"celsius\"}))"
   ]
  },
  {
   "cell_type": "markdown",
   "metadata": {},
   "source": [
    "### Subscriber"
   ]
  },
  {
   "cell_type": "code",
   "execution_count": null,
   "metadata": {},
   "outputs": [
    {
     "name": "stdout",
     "output_type": "stream",
     "text": [
      "Connected!\n",
      "data/ou83rio3h43j/sub/in b'{\"temperature\": 225, \"unit\": \"celsius\"}'\n",
      "data/ou83rio3h43j/sub/in b'{\"temperature\": \"BOOM!\", \"unit\": \"celsius\"}'\n"
     ]
    }
   ],
   "source": [
    "import paho.mqtt.client as mqtt\n",
    "import json\n",
    "\n",
    "user = \"ou83rio3h43j\"\n",
    "password = \"anioaDro9R87\"\n",
    "def on_connect(client, userdata, flags, rc):\n",
    "    print(\"Connected!\")\n",
    "    client.subscribe(\"data/ou83rio3h43j/sub/in\")\n",
    "\n",
    "def on_message(client, data, msg):\n",
    "    print(msg.topic + \" \" + str(msg.payload))\n",
    "\n",
    "\n",
    "client = mqtt.Client()\n",
    "client.on_message = on_message\n",
    "client.on_connect = on_connect\n",
    "client.username_pw_set(user, password)\n",
    "client.connect(\"mqtt.demo.konkerlabs.net\", 1883)\n",
    "client.loop_forever()"
   ]
  },
  {
   "cell_type": "markdown",
   "metadata": {},
   "source": [
    "# Scrapy"
   ]
  },
  {
   "cell_type": "code",
   "execution_count": 24,
   "metadata": {
    "collapsed": true
   },
   "outputs": [],
   "source": [
    "import scrapy\n",
    "from scrapy.crawler import CrawlerProcess"
   ]
  },
  {
   "cell_type": "code",
   "execution_count": 25,
   "metadata": {},
   "outputs": [
    {
     "name": "stderr",
     "output_type": "stream",
     "text": [
      "2019-05-14 16:42:00,103 - scrapy.utils.log - INFO - Scrapy 1.6.0 started (bot: scrapybot)\n",
      "2019-05-14 16:42:00 [scrapy.utils.log] INFO: Scrapy 1.6.0 started (bot: scrapybot)\n",
      "2019-05-14 16:42:00,106 - scrapy.utils.log - INFO - Versions: lxml 4.3.3.0, libxml2 2.9.9, cssselect 1.0.3, parsel 1.5.1, w3lib 1.20.0, Twisted 19.2.0, Python 3.7.2 (default, Dec 29 2018, 06:19:36) - [GCC 7.3.0], pyOpenSSL 19.0.0 (OpenSSL 1.1.1a  20 Nov 2018), cryptography 2.5, Platform Linux-4.15.0-47-generic-x86_64-with-debian-buster-sid\n",
      "2019-05-14 16:42:00 [scrapy.utils.log] INFO: Versions: lxml 4.3.3.0, libxml2 2.9.9, cssselect 1.0.3, parsel 1.5.1, w3lib 1.20.0, Twisted 19.2.0, Python 3.7.2 (default, Dec 29 2018, 06:19:36) - [GCC 7.3.0], pyOpenSSL 19.0.0 (OpenSSL 1.1.1a  20 Nov 2018), cryptography 2.5, Platform Linux-4.15.0-47-generic-x86_64-with-debian-buster-sid\n",
      "2019-05-14 16:42:00,109 - scrapy.crawler - INFO - Overridden settings: {}\n",
      "2019-05-14 16:42:00 [scrapy.crawler] INFO: Overridden settings: {}\n",
      "2019-05-14 16:42:00,126 - scrapy.extensions.telnet - INFO - Telnet Password: 8a356c43a9f19895\n",
      "2019-05-14 16:42:00 [scrapy.extensions.telnet] INFO: Telnet Password: 8a356c43a9f19895\n",
      "2019-05-14 16:42:00,149 - scrapy.middleware - INFO - Enabled extensions:\n",
      "['scrapy.extensions.corestats.CoreStats',\n",
      " 'scrapy.extensions.telnet.TelnetConsole',\n",
      " 'scrapy.extensions.memusage.MemoryUsage',\n",
      " 'scrapy.extensions.logstats.LogStats']\n",
      "2019-05-14 16:42:00 [scrapy.middleware] INFO: Enabled extensions:\n",
      "['scrapy.extensions.corestats.CoreStats',\n",
      " 'scrapy.extensions.telnet.TelnetConsole',\n",
      " 'scrapy.extensions.memusage.MemoryUsage',\n",
      " 'scrapy.extensions.logstats.LogStats']\n",
      "2019-05-14 16:42:00,198 - scrapy.middleware - INFO - Enabled downloader middlewares:\n",
      "['scrapy.downloadermiddlewares.httpauth.HttpAuthMiddleware',\n",
      " 'scrapy.downloadermiddlewares.downloadtimeout.DownloadTimeoutMiddleware',\n",
      " 'scrapy.downloadermiddlewares.defaultheaders.DefaultHeadersMiddleware',\n",
      " 'scrapy.downloadermiddlewares.useragent.UserAgentMiddleware',\n",
      " 'scrapy.downloadermiddlewares.retry.RetryMiddleware',\n",
      " 'scrapy.downloadermiddlewares.redirect.MetaRefreshMiddleware',\n",
      " 'scrapy.downloadermiddlewares.httpcompression.HttpCompressionMiddleware',\n",
      " 'scrapy.downloadermiddlewares.redirect.RedirectMiddleware',\n",
      " 'scrapy.downloadermiddlewares.cookies.CookiesMiddleware',\n",
      " 'scrapy.downloadermiddlewares.httpproxy.HttpProxyMiddleware',\n",
      " 'scrapy.downloadermiddlewares.stats.DownloaderStats']\n",
      "2019-05-14 16:42:00 [scrapy.middleware] INFO: Enabled downloader middlewares:\n",
      "['scrapy.downloadermiddlewares.httpauth.HttpAuthMiddleware',\n",
      " 'scrapy.downloadermiddlewares.downloadtimeout.DownloadTimeoutMiddleware',\n",
      " 'scrapy.downloadermiddlewares.defaultheaders.DefaultHeadersMiddleware',\n",
      " 'scrapy.downloadermiddlewares.useragent.UserAgentMiddleware',\n",
      " 'scrapy.downloadermiddlewares.retry.RetryMiddleware',\n",
      " 'scrapy.downloadermiddlewares.redirect.MetaRefreshMiddleware',\n",
      " 'scrapy.downloadermiddlewares.httpcompression.HttpCompressionMiddleware',\n",
      " 'scrapy.downloadermiddlewares.redirect.RedirectMiddleware',\n",
      " 'scrapy.downloadermiddlewares.cookies.CookiesMiddleware',\n",
      " 'scrapy.downloadermiddlewares.httpproxy.HttpProxyMiddleware',\n",
      " 'scrapy.downloadermiddlewares.stats.DownloaderStats']\n",
      "2019-05-14 16:42:00,204 - scrapy.middleware - INFO - Enabled spider middlewares:\n",
      "['scrapy.spidermiddlewares.httperror.HttpErrorMiddleware',\n",
      " 'scrapy.spidermiddlewares.offsite.OffsiteMiddleware',\n",
      " 'scrapy.spidermiddlewares.referer.RefererMiddleware',\n",
      " 'scrapy.spidermiddlewares.urllength.UrlLengthMiddleware',\n",
      " 'scrapy.spidermiddlewares.depth.DepthMiddleware']\n",
      "2019-05-14 16:42:00 [scrapy.middleware] INFO: Enabled spider middlewares:\n",
      "['scrapy.spidermiddlewares.httperror.HttpErrorMiddleware',\n",
      " 'scrapy.spidermiddlewares.offsite.OffsiteMiddleware',\n",
      " 'scrapy.spidermiddlewares.referer.RefererMiddleware',\n",
      " 'scrapy.spidermiddlewares.urllength.UrlLengthMiddleware',\n",
      " 'scrapy.spidermiddlewares.depth.DepthMiddleware']\n",
      "2019-05-14 16:42:00,210 - scrapy.middleware - INFO - Enabled item pipelines:\n",
      "[]\n",
      "2019-05-14 16:42:00 [scrapy.middleware] INFO: Enabled item pipelines:\n",
      "[]\n",
      "2019-05-14 16:42:00,211 - scrapy.core.engine - INFO - Spider opened\n",
      "2019-05-14 16:42:00 [scrapy.core.engine] INFO: Spider opened\n",
      "2019-05-14 16:42:00,224 - scrapy.extensions.logstats - INFO - Crawled 0 pages (at 0 pages/min), scraped 0 items (at 0 items/min)\n",
      "2019-05-14 16:42:00 [scrapy.extensions.logstats] INFO: Crawled 0 pages (at 0 pages/min), scraped 0 items (at 0 items/min)\n",
      "2019-05-14 16:42:00,235 - scrapy.extensions.telnet - INFO - Telnet console listening on 127.0.0.1:6023\n",
      "2019-05-14 16:42:00 [scrapy.extensions.telnet] INFO: Telnet console listening on 127.0.0.1:6023\n",
      "2019-05-14 16:42:01,447 - scrapy.core.engine - DEBUG - Crawled (200) <GET https://en.wikiquote.org/wiki/Marilyn_Manson> (referer: None)\n",
      "2019-05-14 16:42:01 [scrapy.core.engine] DEBUG: Crawled (200) <GET https://en.wikiquote.org/wiki/Marilyn_Manson> (referer: None)\n",
      "2019-05-14 16:42:01,562 - scrapy.core.scraper - DEBUG - Scraped from <200 https://en.wikiquote.org/wiki/Marilyn_Manson>\n",
      "{'quote': '<li>If people really stopped and realized how much art and creative people move the world versus politics and religion, I mean it’s not even up for debate. An artist at least creates things, puts things into the world. Where as these other people are destroying things, taking things out of the world.”\\n<ul><li>Interview on <i>The Henry Rollins Show</i></li></ul></li>'}\n",
      "2019-05-14 16:42:01 [scrapy.core.scraper] DEBUG: Scraped from <200 https://en.wikiquote.org/wiki/Marilyn_Manson>\n",
      "{'quote': '<li>If people really stopped and realized how much art and creative people move the world versus politics and religion, I mean it’s not even up for debate. An artist at least creates things, puts things into the world. Where as these other people are destroying things, taking things out of the world.”\\n<ul><li>Interview on <i>The Henry Rollins Show</i></li></ul></li>'}\n",
      "2019-05-14 16:42:01,564 - scrapy.core.scraper - DEBUG - Scraped from <200 https://en.wikiquote.org/wiki/Marilyn_Manson>\n",
      "{'quote': \"<li>I'm fucking sick of people who always try to blame movies, bands, songs, or talk shows for whatever the fuck hits them today-teen suicides, drug overdoses or everything else. If someone is stupid enough to kill himself because of a song, then that's exactly what they deserve – they weren't contributing anything to the society – it's one less idiot in the world. There's too many people – if more people kill themselves over music, it wouldn't disappoint me. What would disappoint me is that people are that stupid.\\n<ul><li>As quoted in <i>The Phil Donahue Show</i></li></ul></li>\"}\n",
      "2019-05-14 16:42:01 [scrapy.core.scraper] DEBUG: Scraped from <200 https://en.wikiquote.org/wiki/Marilyn_Manson>\n",
      "{'quote': \"<li>I'm fucking sick of people who always try to blame movies, bands, songs, or talk shows for whatever the fuck hits them today-teen suicides, drug overdoses or everything else. If someone is stupid enough to kill himself because of a song, then that's exactly what they deserve – they weren't contributing anything to the society – it's one less idiot in the world. There's too many people – if more people kill themselves over music, it wouldn't disappoint me. What would disappoint me is that people are that stupid.\\n<ul><li>As quoted in <i>The Phil Donahue Show</i></li></ul></li>\"}\n",
      "2019-05-14 16:42:01,566 - scrapy.core.scraper - DEBUG - Scraped from <200 https://en.wikiquote.org/wiki/Marilyn_Manson>\n",
      "{'quote': '<li>… I don\\'t expect everyone to get something deep out of it. Some people can just listen to the music, or get their aggressions out, but I think with any great painting or movie, album or whatever it is, it\\'s better if people can take what they need from it. That they\\'re not forced to get some particular message.\\n<ul><li>As quoted in \"Headbanger\\'s Ball\" (10 December 1996), <i>MTV Europe</i>.</li></ul></li>'}\n",
      "2019-05-14 16:42:01 [scrapy.core.scraper] DEBUG: Scraped from <200 https://en.wikiquote.org/wiki/Marilyn_Manson>\n",
      "{'quote': '<li>… I don\\'t expect everyone to get something deep out of it. Some people can just listen to the music, or get their aggressions out, but I think with any great painting or movie, album or whatever it is, it\\'s better if people can take what they need from it. That they\\'re not forced to get some particular message.\\n<ul><li>As quoted in \"Headbanger\\'s Ball\" (10 December 1996), <i>MTV Europe</i>.</li></ul></li>'}\n"
     ]
    },
    {
     "name": "stderr",
     "output_type": "stream",
     "text": [
      "2019-05-14 16:42:01,568 - scrapy.core.scraper - DEBUG - Scraped from <200 https://en.wikiquote.org/wiki/Marilyn_Manson>\n",
      "{'quote': '<li>The whole concept of this band is to present the ugly truth about society – warts and all, and let the chips fall where they may.\\n<ul><li>As quoted in <i>Huh</i> (October 1996).<sup title=\"Inadequate citation\">[<a href=\"/wiki/Wikiquote:Citing_sources\" title=\"Wikiquote:Citing sources\"><i>specific\\xa0citation\\xa0needed</i></a>]</sup></li></ul></li>'}\n",
      "2019-05-14 16:42:01 [scrapy.core.scraper] DEBUG: Scraped from <200 https://en.wikiquote.org/wiki/Marilyn_Manson>\n",
      "{'quote': '<li>The whole concept of this band is to present the ugly truth about society – warts and all, and let the chips fall where they may.\\n<ul><li>As quoted in <i>Huh</i> (October 1996).<sup title=\"Inadequate citation\">[<a href=\"/wiki/Wikiquote:Citing_sources\" title=\"Wikiquote:Citing sources\"><i>specific\\xa0citation\\xa0needed</i></a>]</sup></li></ul></li>'}\n",
      "2019-05-14 16:42:01,570 - scrapy.core.scraper - DEBUG - Scraped from <200 https://en.wikiquote.org/wiki/Marilyn_Manson>\n",
      "{'quote': '<li>If someone listens to our music, and it makes them creative, that makes me happier than anything. But with our music, we try to teach the masses of fans that not everything is as it seems.\\n<ul><li>As quoted in <i>Huh</i> (10 October 1996).<sup title=\"Inadequate citation\">[<a href=\"/wiki/Wikiquote:Citing_sources\" title=\"Wikiquote:Citing sources\"><i>specific\\xa0citation\\xa0needed</i></a>]</sup></li></ul></li>'}\n",
      "2019-05-14 16:42:01 [scrapy.core.scraper] DEBUG: Scraped from <200 https://en.wikiquote.org/wiki/Marilyn_Manson>\n",
      "{'quote': '<li>If someone listens to our music, and it makes them creative, that makes me happier than anything. But with our music, we try to teach the masses of fans that not everything is as it seems.\\n<ul><li>As quoted in <i>Huh</i> (10 October 1996).<sup title=\"Inadequate citation\">[<a href=\"/wiki/Wikiquote:Citing_sources\" title=\"Wikiquote:Citing sources\"><i>specific\\xa0citation\\xa0needed</i></a>]</sup></li></ul></li>'}\n",
      "2019-05-14 16:42:01,572 - scrapy.core.scraper - DEBUG - Scraped from <200 https://en.wikiquote.org/wiki/Marilyn_Manson>\n",
      "{'quote': \"<li>I hope that with our music we can inspire other people to be creative and to use their imagination, because it is something that is so lacking nowadays. You have virtual reality, MTV, video games and VCR's. Nobody really wants to think about things or create things. You have programs on a computer which will write a poem for you.\\n<ul><li>As quoted in <i>Kerrang!</i> (14 December 1996).</li></ul></li>\"}\n",
      "2019-05-14 16:42:01 [scrapy.core.scraper] DEBUG: Scraped from <200 https://en.wikiquote.org/wiki/Marilyn_Manson>\n",
      "{'quote': \"<li>I hope that with our music we can inspire other people to be creative and to use their imagination, because it is something that is so lacking nowadays. You have virtual reality, MTV, video games and VCR's. Nobody really wants to think about things or create things. You have programs on a computer which will write a poem for you.\\n<ul><li>As quoted in <i>Kerrang!</i> (14 December 1996).</li></ul></li>\"}\n",
      "2019-05-14 16:42:01,574 - scrapy.core.scraper - DEBUG - Scraped from <200 https://en.wikiquote.org/wiki/Marilyn_Manson>\n",
      "{'quote': '<li>The world doesn\\'t revolve around the sun, it revolves around a giant cock. That is what the world is about. It\\'s about sex. Anybody who doesn\\'t want to realize this is fooling themselves. People are bored because they\\'ve done everything they can do. So now the fear of death is the only thing that gets them excited. That\\'s why some people have made me into some type of sex symbol. I\\'m death on wheels the way I look.\\n<ul><li>As quoted in <i>Guitar School</i> (1996).<sup title=\"Inadequate citation\">[<a href=\"/wiki/Wikiquote:Citing_sources\" title=\"Wikiquote:Citing sources\"><i>specific\\xa0citation\\xa0needed</i></a>]</sup></li></ul></li>'}\n",
      "2019-05-14 16:42:01 [scrapy.core.scraper] DEBUG: Scraped from <200 https://en.wikiquote.org/wiki/Marilyn_Manson>\n",
      "{'quote': '<li>The world doesn\\'t revolve around the sun, it revolves around a giant cock. That is what the world is about. It\\'s about sex. Anybody who doesn\\'t want to realize this is fooling themselves. People are bored because they\\'ve done everything they can do. So now the fear of death is the only thing that gets them excited. That\\'s why some people have made me into some type of sex symbol. I\\'m death on wheels the way I look.\\n<ul><li>As quoted in <i>Guitar School</i> (1996).<sup title=\"Inadequate citation\">[<a href=\"/wiki/Wikiquote:Citing_sources\" title=\"Wikiquote:Citing sources\"><i>specific\\xa0citation\\xa0needed</i></a>]</sup></li></ul></li>'}\n",
      "2019-05-14 16:42:01,578 - scrapy.core.scraper - DEBUG - Scraped from <200 https://en.wikiquote.org/wiki/Marilyn_Manson>\n",
      "{'quote': '<li>Hopefully, I’ll be remembered as the person who brought an end to Christianity.\\n<ul><li>As quoted in <i>Spin</i> (August 1996), p. 34.</li></ul></li>'}\n",
      "2019-05-14 16:42:01 [scrapy.core.scraper] DEBUG: Scraped from <200 https://en.wikiquote.org/wiki/Marilyn_Manson>\n",
      "{'quote': '<li>Hopefully, I’ll be remembered as the person who brought an end to Christianity.\\n<ul><li>As quoted in <i>Spin</i> (August 1996), p. 34.</li></ul></li>'}\n",
      "2019-05-14 16:42:01,581 - scrapy.core.scraper - DEBUG - Scraped from <200 https://en.wikiquote.org/wiki/Marilyn_Manson>\n",
      "{'quote': '<li>[The world\\'s] not a great place anymore and it can\\'t be. I\\'m sure it would have been much more enjoyable to be alive in the fifties, when there was at least an illusion of purity, and things that were taboo had such a great power to them. I think it was a time when magic was really alive. There\\'s no imagination anymore. It was eliminated with video games and VCR\\'s. I\\'m only necessary because of the way the world is. Well, maybe if I manage to make the world a better place then maybe I\\'d want to have a kid.\\n<ul><li>As quoted in <i>Guitar World</i> (1996).<sup title=\"Inadequate citation\">[<a href=\"/wiki/Wikiquote:Citing_sources\" title=\"Wikiquote:Citing sources\"><i>specific\\xa0citation\\xa0needed</i></a>]</sup></li></ul></li>'}\n",
      "2019-05-14 16:42:01 [scrapy.core.scraper] DEBUG: Scraped from <200 https://en.wikiquote.org/wiki/Marilyn_Manson>\n",
      "{'quote': '<li>[The world\\'s] not a great place anymore and it can\\'t be. I\\'m sure it would have been much more enjoyable to be alive in the fifties, when there was at least an illusion of purity, and things that were taboo had such a great power to them. I think it was a time when magic was really alive. There\\'s no imagination anymore. It was eliminated with video games and VCR\\'s. I\\'m only necessary because of the way the world is. Well, maybe if I manage to make the world a better place then maybe I\\'d want to have a kid.\\n<ul><li>As quoted in <i>Guitar World</i> (1996).<sup title=\"Inadequate citation\">[<a href=\"/wiki/Wikiquote:Citing_sources\" title=\"Wikiquote:Citing sources\"><i>specific\\xa0citation\\xa0needed</i></a>]</sup></li></ul></li>'}\n",
      "2019-05-14 16:42:01,583 - scrapy.core.scraper - DEBUG - Scraped from <200 https://en.wikiquote.org/wiki/Marilyn_Manson>\n",
      "{'quote': '<li>I\\'m not anything like Brad Pitt or Antonio Banderas, but maybe it\\'s the taboo element of my image, which is almost deathlike, that attracts them. I should be the last person that [people] should be attracted to.\\n<ul><li>As quoted in <i>CMJ</i> (January 1997).<sup title=\"Inadequate citation\">[<a href=\"/wiki/Wikiquote:Citing_sources\" title=\"Wikiquote:Citing sources\"><i>specific\\xa0citation\\xa0needed</i></a>]</sup></li></ul></li>'}\n",
      "2019-05-14 16:42:01 [scrapy.core.scraper] DEBUG: Scraped from <200 https://en.wikiquote.org/wiki/Marilyn_Manson>\n",
      "{'quote': '<li>I\\'m not anything like Brad Pitt or Antonio Banderas, but maybe it\\'s the taboo element of my image, which is almost deathlike, that attracts them. I should be the last person that [people] should be attracted to.\\n<ul><li>As quoted in <i>CMJ</i> (January 1997).<sup title=\"Inadequate citation\">[<a href=\"/wiki/Wikiquote:Citing_sources\" title=\"Wikiquote:Citing sources\"><i>specific\\xa0citation\\xa0needed</i></a>]</sup></li></ul></li>'}\n",
      "2019-05-14 16:42:01,585 - scrapy.core.scraper - DEBUG - Scraped from <200 https://en.wikiquote.org/wiki/Marilyn_Manson>\n",
      "{'quote': '<li>In explaining things to people, I\\'ve come to terms with the fact that a lot of my goals are very Christian in the end. Because people no longer appreciate the taboos of sex, drugs, and rock &amp; roll. I have to take them as far as they\\'ve ever been taken before, on a grand scale, in order for the world to realize we have to start over. It\\'s very much like the mythology of the bible, the end of the world, and the antichrist and people are made to make a choice about their faith. I think certain elements of that are correct.\\n<ul><li>As quoted in <i>CMJ</i> (January 1997).<sup title=\"Inadequate citation\">[<a href=\"/wiki/Wikiquote:Citing_sources\" title=\"Wikiquote:Citing sources\"><i>specific\\xa0citation\\xa0needed</i></a>]</sup></li></ul></li>'}\n"
     ]
    },
    {
     "name": "stderr",
     "output_type": "stream",
     "text": [
      "2019-05-14 16:42:01 [scrapy.core.scraper] DEBUG: Scraped from <200 https://en.wikiquote.org/wiki/Marilyn_Manson>\n",
      "{'quote': '<li>In explaining things to people, I\\'ve come to terms with the fact that a lot of my goals are very Christian in the end. Because people no longer appreciate the taboos of sex, drugs, and rock &amp; roll. I have to take them as far as they\\'ve ever been taken before, on a grand scale, in order for the world to realize we have to start over. It\\'s very much like the mythology of the bible, the end of the world, and the antichrist and people are made to make a choice about their faith. I think certain elements of that are correct.\\n<ul><li>As quoted in <i>CMJ</i> (January 1997).<sup title=\"Inadequate citation\">[<a href=\"/wiki/Wikiquote:Citing_sources\" title=\"Wikiquote:Citing sources\"><i>specific\\xa0citation\\xa0needed</i></a>]</sup></li></ul></li>'}\n",
      "2019-05-14 16:42:01,597 - scrapy.core.scraper - DEBUG - Scraped from <200 https://en.wikiquote.org/wiki/Marilyn_Manson>\n",
      "{'quote': \"<li>It's really important for me to get across to our fans that whenever I put myself in different circumstances. It is to learn from it so I can relay it to others.\\n<ul><li>As quoted in <i>Circus</i> (January 1997).</li></ul></li>\"}\n",
      "2019-05-14 16:42:01 [scrapy.core.scraper] DEBUG: Scraped from <200 https://en.wikiquote.org/wiki/Marilyn_Manson>\n",
      "{'quote': \"<li>It's really important for me to get across to our fans that whenever I put myself in different circumstances. It is to learn from it so I can relay it to others.\\n<ul><li>As quoted in <i>Circus</i> (January 1997).</li></ul></li>\"}\n",
      "2019-05-14 16:42:01,601 - scrapy.core.scraper - DEBUG - Scraped from <200 https://en.wikiquote.org/wiki/Marilyn_Manson>\n",
      "{'quote': '<li>… if my ideology is a hand, then that\\'s just two fingers. I incorporate a lot of Christian morality into what I do and in fact a lot of my beliefs are very conservative – like my desire for the world to be a better place where people use more intelligence. If you had to condense all that I believe in, it\\'s that responsible, intelligent people should be allowed to do what they want. That artists and performers and architects, people who contribute something to the world, that actually have something to say as opposed to a business man or a politician, say, people who actually contribute to society, the power should be traded. The creators are always suppressed – other than the placebo \"fame\" that they\\'re always given. I don\\'t really suggest any solution – that we could all kick them out of their positions of power and take over. It\\'s just the idea that if you enjoy what you do, that\\'s why you should do it.\\n<ul><li>As quoted in <i>NME</i> (30 August 1997).</li></ul></li>'}\n",
      "2019-05-14 16:42:01 [scrapy.core.scraper] DEBUG: Scraped from <200 https://en.wikiquote.org/wiki/Marilyn_Manson>\n",
      "{'quote': '<li>… if my ideology is a hand, then that\\'s just two fingers. I incorporate a lot of Christian morality into what I do and in fact a lot of my beliefs are very conservative – like my desire for the world to be a better place where people use more intelligence. If you had to condense all that I believe in, it\\'s that responsible, intelligent people should be allowed to do what they want. That artists and performers and architects, people who contribute something to the world, that actually have something to say as opposed to a business man or a politician, say, people who actually contribute to society, the power should be traded. The creators are always suppressed – other than the placebo \"fame\" that they\\'re always given. I don\\'t really suggest any solution – that we could all kick them out of their positions of power and take over. It\\'s just the idea that if you enjoy what you do, that\\'s why you should do it.\\n<ul><li>As quoted in <i>NME</i> (30 August 1997).</li></ul></li>'}\n",
      "2019-05-14 16:42:01,604 - scrapy.core.scraper - DEBUG - Scraped from <200 https://en.wikiquote.org/wiki/Marilyn_Manson>\n",
      "{'quote': '<li>… if I hadn\\'t gone to a private Christian school, I\\'d never have built up enough animosity to want to have started a band. And now that I have one, the fact that they are giving me such resistance and publicity, they have made me far bigger than they\\'d ever have wanted me to have become. So I guess in a strange way the Christians have influenced me the most.\\n<ul><li>As quoted in <i>Vox</i> (October 1997).<sup title=\"Inadequate citation\">[<a href=\"/wiki/Wikiquote:Citing_sources\" title=\"Wikiquote:Citing sources\"><i>specific\\xa0citation\\xa0needed</i></a>]</sup></li></ul></li>'}\n",
      "2019-05-14 16:42:01 [scrapy.core.scraper] DEBUG: Scraped from <200 https://en.wikiquote.org/wiki/Marilyn_Manson>\n",
      "{'quote': '<li>… if I hadn\\'t gone to a private Christian school, I\\'d never have built up enough animosity to want to have started a band. And now that I have one, the fact that they are giving me such resistance and publicity, they have made me far bigger than they\\'d ever have wanted me to have become. So I guess in a strange way the Christians have influenced me the most.\\n<ul><li>As quoted in <i>Vox</i> (October 1997).<sup title=\"Inadequate citation\">[<a href=\"/wiki/Wikiquote:Citing_sources\" title=\"Wikiquote:Citing sources\"><i>specific\\xa0citation\\xa0needed</i></a>]</sup></li></ul></li>'}\n",
      "2019-05-14 16:42:01,608 - scrapy.core.scraper - DEBUG - Scraped from <200 https://en.wikiquote.org/wiki/Marilyn_Manson>\n",
      "{'quote': '<li>Understand this, tell others: in my dream vultures chase me into my burning house. There, they pick out the brains of my family, dismember them, devour. I emerge from my home and I am burning, skin falling away like a snake as the structure crumbles into a black skeleton. I cannot fight off the vultures. A young man or woman emerges from the ashes. He/she doesn\\'t save me, because he/she is holding my cracked and swollen heart in one hand and a piece of paper in the other. I can read it. It discusses and compares in great detail the differences between me and the vultures. He wraps my heart in the paper and tosses it to the ground. Can you see?\\n<ul><li>As quoted in MarilynManson.com (6 February 1999).<sup title=\"Inadequate citation\">[<a href=\"/wiki/Wikiquote:Citing_sources\" title=\"Wikiquote:Citing sources\"><i>specific\\xa0citation\\xa0needed</i></a>]</sup></li></ul></li>'}\n",
      "2019-05-14 16:42:01 [scrapy.core.scraper] DEBUG: Scraped from <200 https://en.wikiquote.org/wiki/Marilyn_Manson>\n",
      "{'quote': '<li>Understand this, tell others: in my dream vultures chase me into my burning house. There, they pick out the brains of my family, dismember them, devour. I emerge from my home and I am burning, skin falling away like a snake as the structure crumbles into a black skeleton. I cannot fight off the vultures. A young man or woman emerges from the ashes. He/she doesn\\'t save me, because he/she is holding my cracked and swollen heart in one hand and a piece of paper in the other. I can read it. It discusses and compares in great detail the differences between me and the vultures. He wraps my heart in the paper and tosses it to the ground. Can you see?\\n<ul><li>As quoted in MarilynManson.com (6 February 1999).<sup title=\"Inadequate citation\">[<a href=\"/wiki/Wikiquote:Citing_sources\" title=\"Wikiquote:Citing sources\"><i>specific\\xa0citation\\xa0needed</i></a>]</sup></li></ul></li>'}\n",
      "2019-05-14 16:42:01,622 - scrapy.core.scraper - DEBUG - Scraped from <200 https://en.wikiquote.org/wiki/Marilyn_Manson>\n",
      "{'quote': '<li>Is adult entertainment killing our children? Or is killing our children entertaining adults?\\n<ul><li>As quoted in MarilynManson.com (2000).<sup title=\"Inadequate citation\">[<a href=\"/wiki/Wikiquote:Citing_sources\" title=\"Wikiquote:Citing sources\"><i>specific\\xa0citation\\xa0needed</i></a>]</sup></li></ul></li>'}\n",
      "2019-05-14 16:42:01 [scrapy.core.scraper] DEBUG: Scraped from <200 https://en.wikiquote.org/wiki/Marilyn_Manson>\n",
      "{'quote': '<li>Is adult entertainment killing our children? Or is killing our children entertaining adults?\\n<ul><li>As quoted in MarilynManson.com (2000).<sup title=\"Inadequate citation\">[<a href=\"/wiki/Wikiquote:Citing_sources\" title=\"Wikiquote:Citing sources\"><i>specific\\xa0citation\\xa0needed</i></a>]</sup></li></ul></li>'}\n"
     ]
    },
    {
     "name": "stderr",
     "output_type": "stream",
     "text": [
      "2019-05-14 16:42:01,623 - scrapy.core.scraper - DEBUG - Scraped from <200 https://en.wikiquote.org/wiki/Marilyn_Manson>\n",
      "{'quote': '<li>If they think that an artist can destroy their faith, then their faith is rather fragile.\\n<ul><li>As quoted in <a rel=\"nofollow\" class=\"external text\" href=\"http://news.bbc.co.uk/2/hi/entertainment/4175850.stm\">BBC News</a> (23 August 2005)</li></ul></li>'}\n",
      "2019-05-14 16:42:01 [scrapy.core.scraper] DEBUG: Scraped from <200 https://en.wikiquote.org/wiki/Marilyn_Manson>\n",
      "{'quote': '<li>If they think that an artist can destroy their faith, then their faith is rather fragile.\\n<ul><li>As quoted in <a rel=\"nofollow\" class=\"external text\" href=\"http://news.bbc.co.uk/2/hi/entertainment/4175850.stm\">BBC News</a> (23 August 2005)</li></ul></li>'}\n",
      "2019-05-14 16:42:01,626 - scrapy.core.scraper - DEBUG - Scraped from <200 https://en.wikiquote.org/wiki/Marilyn_Manson>\n",
      "{'quote': '<li>To me, anything that is a church is really just far too close minded.\\n<ul><li>As quoted in <i>Ultimate Guitar</i> (2007).<sup title=\"Inadequate citation\">[<a href=\"/wiki/Wikiquote:Citing_sources\" title=\"Wikiquote:Citing sources\"><i>specific\\xa0citation\\xa0needed</i></a>]</sup></li></ul></li>'}\n",
      "2019-05-14 16:42:01 [scrapy.core.scraper] DEBUG: Scraped from <200 https://en.wikiquote.org/wiki/Marilyn_Manson>\n",
      "{'quote': '<li>To me, anything that is a church is really just far too close minded.\\n<ul><li>As quoted in <i>Ultimate Guitar</i> (2007).<sup title=\"Inadequate citation\">[<a href=\"/wiki/Wikiquote:Citing_sources\" title=\"Wikiquote:Citing sources\"><i>specific\\xa0citation\\xa0needed</i></a>]</sup></li></ul></li>'}\n",
      "2019-05-14 16:42:01,637 - scrapy.core.scraper - DEBUG - Scraped from <200 https://en.wikiquote.org/wiki/Marilyn_Manson>\n",
      "{'quote': '<li>We don\\'t believe in credibility, because we know that we\\'re fucking incredible.\\n<ul><li>\"<a rel=\"nofollow\" class=\"external text\" href=\"http://www.azlyrics.com/lyrics/marilynmanson/werefromamerica.html\">We\\'re From America</a>\".</li></ul></li>'}\n",
      "2019-05-14 16:42:01 [scrapy.core.scraper] DEBUG: Scraped from <200 https://en.wikiquote.org/wiki/Marilyn_Manson>\n",
      "{'quote': '<li>We don\\'t believe in credibility, because we know that we\\'re fucking incredible.\\n<ul><li>\"<a rel=\"nofollow\" class=\"external text\" href=\"http://www.azlyrics.com/lyrics/marilynmanson/werefromamerica.html\">We\\'re From America</a>\".</li></ul></li>'}\n",
      "2019-05-14 16:42:01,639 - scrapy.core.scraper - DEBUG - Scraped from <200 https://en.wikiquote.org/wiki/Marilyn_Manson>\n",
      "{'quote': '<li>We don\\'t like to kill our unborn, we need them to grow up and fight our wars.\\n<ul><li>\"<a rel=\"nofollow\" class=\"external text\" href=\"http://www.azlyrics.com/lyrics/marilynmanson/werefromamerica.html\">We\\'re From America</a>\".</li></ul></li>'}\n",
      "2019-05-14 16:42:01 [scrapy.core.scraper] DEBUG: Scraped from <200 https://en.wikiquote.org/wiki/Marilyn_Manson>\n",
      "{'quote': '<li>We don\\'t like to kill our unborn, we need them to grow up and fight our wars.\\n<ul><li>\"<a rel=\"nofollow\" class=\"external text\" href=\"http://www.azlyrics.com/lyrics/marilynmanson/werefromamerica.html\">We\\'re From America</a>\".</li></ul></li>'}\n",
      "2019-05-14 16:42:01,644 - scrapy.core.scraper - DEBUG - Scraped from <200 https://en.wikiquote.org/wiki/Marilyn_Manson>\n",
      "{'quote': '<li>Art gives me the freedom I don’t have when I make music. In music, you feel a connection to the voice and think about the person behind it. In art that\\'s secondary.\\n<ul><li>Regarding his latest art exhibition, as quoted in <a rel=\"nofollow\" class=\"external text\" href=\"http://www.theage.com.au/\"><i>The Age</i></a> (30 June 2010).<sup title=\"Inadequate citation\">[<a href=\"/wiki/Wikiquote:Citing_sources\" title=\"Wikiquote:Citing sources\"><i>specific\\xa0citation\\xa0needed</i></a>]</sup></li></ul></li>'}\n",
      "2019-05-14 16:42:01 [scrapy.core.scraper] DEBUG: Scraped from <200 https://en.wikiquote.org/wiki/Marilyn_Manson>\n",
      "{'quote': '<li>Art gives me the freedom I don’t have when I make music. In music, you feel a connection to the voice and think about the person behind it. In art that\\'s secondary.\\n<ul><li>Regarding his latest art exhibition, as quoted in <a rel=\"nofollow\" class=\"external text\" href=\"http://www.theage.com.au/\"><i>The Age</i></a> (30 June 2010).<sup title=\"Inadequate citation\">[<a href=\"/wiki/Wikiquote:Citing_sources\" title=\"Wikiquote:Citing sources\"><i>specific\\xa0citation\\xa0needed</i></a>]</sup></li></ul></li>'}\n",
      "2019-05-14 16:42:01,650 - scrapy.core.scraper - DEBUG - Scraped from <200 https://en.wikiquote.org/wiki/Marilyn_Manson>\n",
      "{'quote': '<li>[A] dude\\'s getting bullied and shoots up his school, and they blame it on Marilyn and the heroin; where were the parents at?\\n<ul><li><a href=\"/wiki/Eminem\" title=\"Eminem\">Marshall B. Mathers</a>, <a rel=\"nofollow\" class=\"external text\" href=\"http://www.azlyrics.com/lyrics/eminem/thewayiam.html\">\"The Way I Am\"</a> (2000), <i>The Marshall Mathers LP</i></li></ul></li>'}\n",
      "2019-05-14 16:42:01 [scrapy.core.scraper] DEBUG: Scraped from <200 https://en.wikiquote.org/wiki/Marilyn_Manson>\n",
      "{'quote': '<li>[A] dude\\'s getting bullied and shoots up his school, and they blame it on Marilyn and the heroin; where were the parents at?\\n<ul><li><a href=\"/wiki/Eminem\" title=\"Eminem\">Marshall B. Mathers</a>, <a rel=\"nofollow\" class=\"external text\" href=\"http://www.azlyrics.com/lyrics/eminem/thewayiam.html\">\"The Way I Am\"</a> (2000), <i>The Marshall Mathers LP</i></li></ul></li>'}\n",
      "2019-05-14 16:42:01,653 - scrapy.core.scraper - DEBUG - Scraped from <200 https://en.wikiquote.org/wiki/Marilyn_Manson>\n",
      "{'quote': '<li><a rel=\"nofollow\" class=\"external free\" href=\"http://www.marilynmanson.com/\">http://www.marilynmanson.com/</a></li>'}\n",
      "2019-05-14 16:42:01 [scrapy.core.scraper] DEBUG: Scraped from <200 https://en.wikiquote.org/wiki/Marilyn_Manson>\n",
      "{'quote': '<li><a rel=\"nofollow\" class=\"external free\" href=\"http://www.marilynmanson.com/\">http://www.marilynmanson.com/</a></li>'}\n",
      "2019-05-14 16:42:01,658 - scrapy.core.scraper - DEBUG - Scraped from <200 https://en.wikiquote.org/wiki/Marilyn_Manson>\n",
      "{'quote': '<li><a rel=\"nofollow\" class=\"external free\" href=\"http://www.mansonwiki.com/\">http://www.mansonwiki.com/</a></li>'}\n",
      "2019-05-14 16:42:01 [scrapy.core.scraper] DEBUG: Scraped from <200 https://en.wikiquote.org/wiki/Marilyn_Manson>\n",
      "{'quote': '<li><a rel=\"nofollow\" class=\"external free\" href=\"http://www.mansonwiki.com/\">http://www.mansonwiki.com/</a></li>'}\n",
      "2019-05-14 16:42:01,663 - scrapy.core.engine - INFO - Closing spider (finished)\n",
      "2019-05-14 16:42:01 [scrapy.core.engine] INFO: Closing spider (finished)\n",
      "2019-05-14 16:42:01,667 - scrapy.statscollectors - INFO - Dumping Scrapy stats:\n",
      "{'downloader/request_bytes': 234,\n",
      " 'downloader/request_count': 1,\n",
      " 'downloader/request_method_count/GET': 1,\n",
      " 'downloader/response_bytes': 17008,\n",
      " 'downloader/response_count': 1,\n",
      " 'downloader/response_status_count/200': 1,\n",
      " 'finish_reason': 'finished',\n",
      " 'finish_time': datetime.datetime(2019, 5, 14, 19, 42, 1, 665138),\n",
      " 'item_scraped_count': 24,\n",
      " 'log_count/DEBUG': 25,\n",
      " 'log_count/INFO': 9,\n",
      " 'memusage/max': 92717056,\n",
      " 'memusage/startup': 92717056,\n",
      " 'response_received_count': 1,\n",
      " 'scheduler/dequeued': 1,\n",
      " 'scheduler/dequeued/memory': 1,\n",
      " 'scheduler/enqueued': 1,\n",
      " 'scheduler/enqueued/memory': 1,\n",
      " 'start_time': datetime.datetime(2019, 5, 14, 19, 42, 0, 224062)}\n",
      "2019-05-14 16:42:01 [scrapy.statscollectors] INFO: Dumping Scrapy stats:\n",
      "{'downloader/request_bytes': 234,\n",
      " 'downloader/request_count': 1,\n",
      " 'downloader/request_method_count/GET': 1,\n",
      " 'downloader/response_bytes': 17008,\n",
      " 'downloader/response_count': 1,\n",
      " 'downloader/response_status_count/200': 1,\n",
      " 'finish_reason': 'finished',\n",
      " 'finish_time': datetime.datetime(2019, 5, 14, 19, 42, 1, 665138),\n",
      " 'item_scraped_count': 24,\n",
      " 'log_count/DEBUG': 25,\n",
      " 'log_count/INFO': 9,\n",
      " 'memusage/max': 92717056,\n",
      " 'memusage/startup': 92717056,\n",
      " 'response_received_count': 1,\n",
      " 'scheduler/dequeued': 1,\n",
      " 'scheduler/dequeued/memory': 1,\n",
      " 'scheduler/enqueued': 1,\n",
      " 'scheduler/enqueued/memory': 1,\n",
      " 'start_time': datetime.datetime(2019, 5, 14, 19, 42, 0, 224062)}\n",
      "2019-05-14 16:42:01,668 - scrapy.core.engine - INFO - Spider closed (finished)\n",
      "2019-05-14 16:42:01 [scrapy.core.engine] INFO: Spider closed (finished)\n"
     ]
    }
   ],
   "source": [
    "class MarilynMansonQuotes(scrapy.Spider):\n",
    "    name = \"MarilynMansonQuotes\"\n",
    "    start_urls = [\n",
    "        'https://en.wikiquote.org/wiki/Marilyn_Manson',\n",
    "    ]\n",
    "    \n",
    "    def parse(self, response):\n",
    "        for quote in response.css('div.mw-parser-output > ul > li'):\n",
    "            yield {'quote': quote.extract()}\n",
    "\n",
    "process = CrawlerProcess()\n",
    "\n",
    "process.crawl(MarilynMansonQuotes)\n",
    "process.start()"
   ]
  },
  {
   "cell_type": "code",
   "execution_count": 19,
   "metadata": {
    "collapsed": true
   },
   "outputs": [],
   "source": [
    "s = BlogSpider()"
   ]
  },
  {
   "cell_type": "code",
   "execution_count": 21,
   "metadata": {},
   "outputs": [
    {
     "ename": "TypeError",
     "evalue": "parse() missing 1 required positional argument: 'response'",
     "output_type": "error",
     "traceback": [
      "\u001b[0;31m---------------------------------------------------------------------------\u001b[0m",
      "\u001b[0;31mTypeError\u001b[0m                                 Traceback (most recent call last)",
      "\u001b[0;32m<ipython-input-21-796cdba17422>\u001b[0m in \u001b[0;36m<module>\u001b[0;34m\u001b[0m\n\u001b[0;32m----> 1\u001b[0;31m \u001b[0ms\u001b[0m\u001b[0;34m.\u001b[0m\u001b[0mparse\u001b[0m\u001b[0;34m(\u001b[0m\u001b[0;34m)\u001b[0m\u001b[0;34m\u001b[0m\u001b[0;34m\u001b[0m\u001b[0m\n\u001b[0m",
      "\u001b[0;31mTypeError\u001b[0m: parse() missing 1 required positional argument: 'response'"
     ]
    }
   ],
   "source": [
    "s.parse()"
   ]
  },
  {
   "cell_type": "code",
   "execution_count": null,
   "metadata": {
    "collapsed": true
   },
   "outputs": [],
   "source": []
  }
 ],
 "metadata": {
  "kernelspec": {
   "display_name": "PY-Telegram",
   "language": "python",
   "name": "telegram"
  },
  "language_info": {
   "codemirror_mode": {
    "name": "ipython",
    "version": 3
   },
   "file_extension": ".py",
   "mimetype": "text/x-python",
   "name": "python",
   "nbconvert_exporter": "python",
   "pygments_lexer": "ipython3",
   "version": "3.7.2"
  }
 },
 "nbformat": 4,
 "nbformat_minor": 2
}
