{
 "cells": [
  {
   "cell_type": "markdown",
   "metadata": {},
   "source": [
    "# Scrapy"
   ]
  },
  {
   "cell_type": "markdown",
   "metadata": {},
   "source": [
    "https://github.com/rennerocha/scrapy-tutorial.git"
   ]
  },
  {
   "cell_type": "markdown",
   "metadata": {},
   "source": [
    "* Example of all HackerSpaces throughout the World\n",
    "\n",
    "URL: https://wiki.hackerspaces.org/List_of_Hacker_Spaces"
   ]
  },
  {
   "cell_type": "markdown",
   "metadata": {},
   "source": [
    "Quotes to scrape\n",
    "\n",
    "URL: http://quotes.toscrape.com/"
   ]
  },
  {
   "cell_type": "markdown",
   "metadata": {},
   "source": [
    "URL: toscrape.com"
   ]
  },
  {
   "cell_type": "markdown",
   "metadata": {},
   "source": [
    "##### SPIDER"
   ]
  },
  {
   "cell_type": "code",
   "execution_count": 2,
   "metadata": {
    "collapsed": true
   },
   "outputs": [],
   "source": [
    "import scrapy"
   ]
  },
  {
   "cell_type": "code",
   "execution_count": null,
   "metadata": {
    "collapsed": true
   },
   "outputs": [],
   "source": [
    "class HackerspaceListSpider(scrapy.Spider):\n",
    "    name = 'hackerspace-list'\n",
    "    stat_urls = [\n",
    "        'https://wiki.hackerspaces.org/List_of_Hacker_Spaces'\n",
    "    ]\n",
    "    def parse(self, response):\n",
    "        for row in response.css('table tr'):\n",
    "            yield {\n",
    "                'hackerspace': row.css('.Hackerspace *::text').get(),\n",
    "                'country': row.css('.Country *::text').get(),\n",
    "                'status': row.css('.Hackerspace-status *::text').get(),\n",
    "                'url': row.css('.Website a::attr(href)').get()\n",
    "            }\n",
    "\n",
    "                \n",
    "        further_results = response.xpath(\n",
    "            '//a[contains(text(), \"further\")]//@href|'\n",
    "            '//a[contains(text(), \"next\")]//@href')\n",
    "        if further_results:\n",
    "            yield scrapy.Request(response.urljoin(further_results.get()))\n",
    "            "
   ]
  },
  {
   "cell_type": "code",
   "execution_count": null,
   "metadata": {
    "collapsed": true
   },
   "outputs": [],
   "source": [
    "class MySpider(scrapy.Spider):\n",
    "    name = 'spider_name'\n",
    "    def start_requests(self):\n",
    "        yield [\n",
    "            scrapy.Request(\n",
    "                'http://example.com',\n",
    "                callback=self.parse)]\n",
    "    def parse(self, response):\n",
    "        self.logger.info('Passei por aqui!')"
   ]
  },
  {
   "cell_type": "markdown",
   "metadata": {},
   "source": [
    "Extraindo dados a partir de:\n",
    "\n",
    "Seletores CSS: www.w3.com/TR/selectors\n",
    "\n",
    "Seletores XPath: www.w3.com/TR/xpath/all\n"
   ]
  },
  {
   "cell_type": "markdown",
   "metadata": {},
   "source": [
    "## HANDSON LOCAL"
   ]
  },
  {
   "cell_type": "markdown",
   "metadata": {},
   "source": [
    "* Parsel use selector like"
   ]
  },
  {
   "cell_type": "code",
   "execution_count": 8,
   "metadata": {
    "collapsed": true
   },
   "outputs": [],
   "source": [
    "from parsel import Selector\n",
    "product_list = 'scrapy-tutorial/code/product_list.html'\n",
    "with open (product_list) as file:\n",
    "    response = Selector(text=file.read())"
   ]
  },
  {
   "cell_type": "code",
   "execution_count": 9,
   "metadata": {},
   "outputs": [
    {
     "data": {
      "text/plain": [
       "<Selector xpath=None data='<html>\\n  <body>\\n    <h1>Last Offers</h1>'>"
      ]
     },
     "execution_count": 9,
     "metadata": {},
     "output_type": "execute_result"
    }
   ],
   "source": [
    "response"
   ]
  },
  {
   "cell_type": "code",
   "execution_count": 10,
   "metadata": {},
   "outputs": [
    {
     "data": {
      "text/plain": [
       "'<html>\\n  <body>\\n    <h1>Last Offers</h1>\\n    <ul id=\"offers\">\\n      <li class=\"product\">\\n        <a href=\"http://mystore.com/product-1\">Product 1</a>\\n        <p>I am a great product! Buy me!</p>\\n      </li>\\n      <li class=\"product bestseller\">\\n        <a href=\"http://mystore.com/product-2\">Product 2</a>\\n        <p>I am a better! Buy me!</p>\\n      </li>\\n      <li class=\"ad\">\\n        <a href=\"http://otherstore.com/product-2\">Ad Product 2</a>\\n        <p>I am an ad product! I paid to be here!</p>\\n      </li>\\n      <li class=\"product\">\\n        <a href=\"http://mystore.com/product-2\">Product 3</a>\\n        <p>Ok, you won\\'t buy me anyway :-(</p>\\n      </li>\\n    </ul>\\n\\n    <h1>You may like</h1>\\n    <ul id=\"recommendations\">\\n      <li class=\"product\">\\n        <a href=\"http://recommentation.com/recommendations-product-1\">Recommended Product 1</a>\\n        <p>Probably you will like me too.</p>\\n      </li>\\n      <li class=\"product\">\\n        <a href=\"http://recommentation.com/recommendations-product-2\">Recommended Product 2</a>\\n        <p>Probably you will like me too (2).</p>\\n      </li>\\n    </ul>\\n  </body>\\n</html>'"
      ]
     },
     "execution_count": 10,
     "metadata": {},
     "output_type": "execute_result"
    }
   ],
   "source": [
    "response.get() # transform selector in string"
   ]
  },
  {
   "cell_type": "markdown",
   "metadata": {},
   "source": [
    "* Using CSS"
   ]
  },
  {
   "cell_type": "code",
   "execution_count": 12,
   "metadata": {},
   "outputs": [
    {
     "data": {
      "text/plain": [
       "['<h1>Last Offers</h1>', '<h1>You may like</h1>']"
      ]
     },
     "execution_count": 12,
     "metadata": {},
     "output_type": "execute_result"
    }
   ],
   "source": [
    "response.css(\"h1\").getall()"
   ]
  },
  {
   "cell_type": "code",
   "execution_count": 13,
   "metadata": {},
   "outputs": [
    {
     "data": {
      "text/plain": [
       "['<ul id=\"offers\">\\n      <li class=\"product\">\\n        <a href=\"http://mystore.com/product-1\">Product 1</a>\\n        <p>I am a great product! Buy me!</p>\\n      </li>\\n      <li class=\"product bestseller\">\\n        <a href=\"http://mystore.com/product-2\">Product 2</a>\\n        <p>I am a better! Buy me!</p>\\n      </li>\\n      <li class=\"ad\">\\n        <a href=\"http://otherstore.com/product-2\">Ad Product 2</a>\\n        <p>I am an ad product! I paid to be here!</p>\\n      </li>\\n      <li class=\"product\">\\n        <a href=\"http://mystore.com/product-2\">Product 3</a>\\n        <p>Ok, you won\\'t buy me anyway :-(</p>\\n      </li>\\n    </ul>']"
      ]
     },
     "execution_count": 13,
     "metadata": {},
     "output_type": "execute_result"
    }
   ],
   "source": [
    "response.css(\"ul#offers\").getall() # '#' means ID"
   ]
  },
  {
   "cell_type": "code",
   "execution_count": 15,
   "metadata": {},
   "outputs": [
    {
     "data": {
      "text/plain": [
       "['<li class=\"product\">\\n        <a href=\"http://mystore.com/product-1\">Product 1</a>\\n        <p>I am a great product! Buy me!</p>\\n      </li>',\n",
       " '<li class=\"product bestseller\">\\n        <a href=\"http://mystore.com/product-2\">Product 2</a>\\n        <p>I am a better! Buy me!</p>\\n      </li>',\n",
       " '<li class=\"product\">\\n        <a href=\"http://mystore.com/product-2\">Product 3</a>\\n        <p>Ok, you won\\'t buy me anyway :-(</p>\\n      </li>',\n",
       " '<li class=\"product\">\\n        <a href=\"http://recommentation.com/recommendations-product-1\">Recommended Product 1</a>\\n        <p>Probably you will like me too.</p>\\n      </li>',\n",
       " '<li class=\"product\">\\n        <a href=\"http://recommentation.com/recommendations-product-2\">Recommended Product 2</a>\\n        <p>Probably you will like me too (2).</p>\\n      </li>']"
      ]
     },
     "execution_count": 15,
     "metadata": {},
     "output_type": "execute_result"
    }
   ],
   "source": [
    "response.css(\".product\").getall() # '.' means Class"
   ]
  },
  {
   "cell_type": "code",
   "execution_count": 17,
   "metadata": {},
   "outputs": [
    {
     "data": {
      "text/plain": [
       "['<li class=\"product\">\\n        <a href=\"http://mystore.com/product-1\">Product 1</a>\\n        <p>I am a great product! Buy me!</p>\\n      </li>',\n",
       " '<li class=\"product bestseller\">\\n        <a href=\"http://mystore.com/product-2\">Product 2</a>\\n        <p>I am a better! Buy me!</p>\\n      </li>',\n",
       " '<li class=\"product\">\\n        <a href=\"http://mystore.com/product-2\">Product 3</a>\\n        <p>Ok, you won\\'t buy me anyway :-(</p>\\n      </li>']"
      ]
     },
     "execution_count": 17,
     "metadata": {},
     "output_type": "execute_result"
    }
   ],
   "source": [
    "response.css(\"ul#offers .product\").getall() # From class .product gets id offers"
   ]
  },
  {
   "cell_type": "code",
   "execution_count": 18,
   "metadata": {},
   "outputs": [
    {
     "data": {
      "text/plain": [
       "['http://mystore.com/product-1',\n",
       " 'http://mystore.com/product-2',\n",
       " 'http://mystore.com/product-2']"
      ]
     },
     "execution_count": 18,
     "metadata": {},
     "output_type": "execute_result"
    }
   ],
   "source": [
    "response.css(\"ul#offers .product a::attr(href)\").getall() # From class product in ul with id offers gets a with attributs href"
   ]
  },
  {
   "cell_type": "code",
   "execution_count": 19,
   "metadata": {},
   "outputs": [
    {
     "data": {
      "text/plain": [
       "['\\n        ',\n",
       " 'Product 1',\n",
       " '\\n        ',\n",
       " 'I am a great product! Buy me!',\n",
       " '\\n      ',\n",
       " '\\n        ',\n",
       " 'Product 2',\n",
       " '\\n        ',\n",
       " 'I am a better! Buy me!',\n",
       " '\\n      ',\n",
       " '\\n        ',\n",
       " 'Product 3',\n",
       " '\\n        ',\n",
       " \"Ok, you won't buy me anyway :-(\",\n",
       " '\\n      ']"
      ]
     },
     "execution_count": 19,
     "metadata": {},
     "output_type": "execute_result"
    }
   ],
   "source": [
    "response.css('ul#offers .product *::text').getall() #From class product in ul with id offers gets any string"
   ]
  },
  {
   "cell_type": "code",
   "execution_count": 21,
   "metadata": {},
   "outputs": [
    {
     "data": {
      "text/plain": [
       "['I am a great product! Buy me!',\n",
       " 'I am a better! Buy me!',\n",
       " \"Ok, you won't buy me anyway :-(\"]"
      ]
     },
     "execution_count": 21,
     "metadata": {},
     "output_type": "execute_result"
    }
   ],
   "source": [
    "response.css('ul#offers .product p::text').getall() #From class product in ul with id offers gets text with p tags"
   ]
  },
  {
   "cell_type": "code",
   "execution_count": 20,
   "metadata": {},
   "outputs": [
    {
     "data": {
      "text/plain": [
       "['<li class=\"product bestseller\">\\n        <a href=\"http://mystore.com/product-2\">Product 2</a>\\n        <p>I am a better! Buy me!</p>\\n      </li>']"
      ]
     },
     "execution_count": 20,
     "metadata": {},
     "output_type": "execute_result"
    }
   ],
   "source": [
    "response.css('.bestseller').getall()"
   ]
  },
  {
   "cell_type": "markdown",
   "metadata": {},
   "source": [
    "* Using Xpath"
   ]
  },
  {
   "cell_type": "code",
   "execution_count": 22,
   "metadata": {},
   "outputs": [
    {
     "data": {
      "text/plain": [
       "['<h1>Last Offers</h1>', '<h1>You may like</h1>']"
      ]
     },
     "execution_count": 22,
     "metadata": {},
     "output_type": "execute_result"
    }
   ],
   "source": [
    "response.xpath('//h1').getall()"
   ]
  },
  {
   "cell_type": "code",
   "execution_count": 23,
   "metadata": {},
   "outputs": [
    {
     "data": {
      "text/plain": [
       "['<h1>You may like</h1>']"
      ]
     },
     "execution_count": 23,
     "metadata": {},
     "output_type": "execute_result"
    }
   ],
   "source": [
    "response.xpath('//h1[2]').getall() #gets the second appers of h1"
   ]
  },
  {
   "cell_type": "code",
   "execution_count": 25,
   "metadata": {},
   "outputs": [
    {
     "data": {
      "text/plain": [
       "['<ul id=\"offers\">\\n      <li class=\"product\">\\n        <a href=\"http://mystore.com/product-1\">Product 1</a>\\n        <p>I am a great product! Buy me!</p>\\n      </li>\\n      <li class=\"product bestseller\">\\n        <a href=\"http://mystore.com/product-2\">Product 2</a>\\n        <p>I am a better! Buy me!</p>\\n      </li>\\n      <li class=\"ad\">\\n        <a href=\"http://otherstore.com/product-2\">Ad Product 2</a>\\n        <p>I am an ad product! I paid to be here!</p>\\n      </li>\\n      <li class=\"product\">\\n        <a href=\"http://mystore.com/product-2\">Product 3</a>\\n        <p>Ok, you won\\'t buy me anyway :-(</p>\\n      </li>\\n    </ul>']"
      ]
     },
     "execution_count": 25,
     "metadata": {},
     "output_type": "execute_result"
    }
   ],
   "source": [
    "response.xpath('//ul[@id=\"offers\"]').getall()"
   ]
  },
  {
   "cell_type": "code",
   "execution_count": 27,
   "metadata": {},
   "outputs": [
    {
     "data": {
      "text/plain": [
       "[<Selector xpath='//ul[@id=\"offers\"]//li[@class=\"product\"]' data='<li class=\"product\">\\n        <a href=\"ht'>,\n",
       " <Selector xpath='//ul[@id=\"offers\"]//li[@class=\"product\"]' data='<li class=\"product\">\\n        <a href=\"ht'>]"
      ]
     },
     "execution_count": 27,
     "metadata": {},
     "output_type": "execute_result"
    }
   ],
   "source": [
    "response.xpath('//ul[@id=\"offers\"]//li[@class=\"product\"]') # return exact the name 'product' and can't return 'product Bestseller'"
   ]
  },
  {
   "cell_type": "code",
   "execution_count": 28,
   "metadata": {},
   "outputs": [
    {
     "data": {
      "text/plain": [
       "[<Selector xpath='//li/a/@href' data='http://mystore.com/product-1'>,\n",
       " <Selector xpath='//li/a/@href' data='http://mystore.com/product-2'>,\n",
       " <Selector xpath='//li/a/@href' data='http://otherstore.com/product-2'>,\n",
       " <Selector xpath='//li/a/@href' data='http://mystore.com/product-2'>,\n",
       " <Selector xpath='//li/a/@href' data='http://recommentation.com/recommendation'>,\n",
       " <Selector xpath='//li/a/@href' data='http://recommentation.com/recommendation'>]"
      ]
     },
     "execution_count": 28,
     "metadata": {},
     "output_type": "execute_result"
    }
   ],
   "source": [
    "response.xpath('//li/a/@href')"
   ]
  },
  {
   "cell_type": "code",
   "execution_count": 30,
   "metadata": {},
   "outputs": [
    {
     "data": {
      "text/plain": [
       "['\\n        ',\n",
       " '\\n        ',\n",
       " '\\n      ',\n",
       " '\\n        ',\n",
       " '\\n        ',\n",
       " '\\n      ',\n",
       " '\\n        ',\n",
       " '\\n        ',\n",
       " '\\n      ',\n",
       " '\\n        ',\n",
       " '\\n        ',\n",
       " '\\n      ',\n",
       " '\\n        ',\n",
       " '\\n        ',\n",
       " '\\n      ',\n",
       " '\\n        ',\n",
       " '\\n        ',\n",
       " '\\n      ']"
      ]
     },
     "execution_count": 30,
     "metadata": {},
     "output_type": "execute_result"
    }
   ],
   "source": [
    "response.xpath('//li/text()').getall() # All text"
   ]
  },
  {
   "cell_type": "code",
   "execution_count": 32,
   "metadata": {},
   "outputs": [
    {
     "data": {
      "text/plain": [
       "['I am a great product! Buy me!',\n",
       " 'I am a better! Buy me!',\n",
       " 'I am an ad product! I paid to be here!',\n",
       " \"Ok, you won't buy me anyway :-(\",\n",
       " 'Probably you will like me too.',\n",
       " 'Probably you will like me too (2).']"
      ]
     },
     "execution_count": 32,
     "metadata": {},
     "output_type": "execute_result"
    }
   ],
   "source": [
    "response.xpath('//p/text()').getall() # all text inside tag p"
   ]
  },
  {
   "cell_type": "code",
   "execution_count": 34,
   "metadata": {},
   "outputs": [
    {
     "data": {
      "text/plain": [
       "['<li class=\"product\">\\n        <a href=\"http://mystore.com/product-1\">Product 1</a>\\n        <p>I am a great product! Buy me!</p>\\n      </li>',\n",
       " '<li class=\"product\">\\n        <a href=\"http://mystore.com/product-2\">Product 3</a>\\n        <p>Ok, you won\\'t buy me anyway :-(</p>\\n      </li>']"
      ]
     },
     "execution_count": 34,
     "metadata": {},
     "output_type": "execute_result"
    }
   ],
   "source": [
    "response.xpath('//ul[@id=\"offers\"]//li[@class=\"product\"]').getall() # gets"
   ]
  },
  {
   "cell_type": "markdown",
   "metadata": {},
   "source": [
    "## Another Example with \n",
    "* http://quotes.toscrape.com"
   ]
  },
  {
   "cell_type": "code",
   "execution_count": 38,
   "metadata": {},
   "outputs": [
    {
     "name": "stdout",
     "output_type": "stream",
     "text": [
      "/home/phillipe/Working/Web Scraping/scrapy-tutorial\n"
     ]
    }
   ],
   "source": [
    "cd scrapy-tutorial/code/quotes"
   ]
  },
  {
   "cell_type": "markdown",
   "metadata": {},
   "source": [
    "#### Using Scrapy Shell"
   ]
  },
  {
   "cell_type": "markdown",
   "metadata": {},
   "source": [
    "response - get info about site\n",
    "response.hesder - get insto header site\n",
    "response.body - all html\n"
   ]
  },
  {
   "cell_type": "markdown",
   "metadata": {},
   "source": [
    "**If you face some problem in auto-comple using scrapy shell:**\n",
    "\n",
    "```python\n",
    "\n",
    "import logging\n",
    "logging.getLogger('parso.python.diff').disabled = True\n",
    "logging.getLogger('parso.cache').disable = True\n",
    "logging.getLogger('parso.cache').disable = True\n",
    "logging.getLogger('parso.cache.pickle').disabled=True\n",
    "logging.getLogger('py.warnings').disabled=True\n",
    "logging.disable(logging.DEBUG)\n",
    "logger = logging.getLogger()\n",
    "logger.disabled = True\n",
    "\n",
    "  ```"
   ]
  },
  {
   "cell_type": "markdown",
   "metadata": {},
   "source": [
    "to run a spider\n",
    "scrapy crawl ..."
   ]
  },
  {
   "cell_type": "code",
   "execution_count": 46,
   "metadata": {
    "collapsed": true
   },
   "outputs": [],
   "source": [
    "# -*- coding: utf-8 -*-\n",
    "import scrapy\n",
    "class DefaultQuotesSpider(scrapy.Spider):\n",
    "    name = 'default_quotes'\n",
    "    allowed_domains = ['quotes.toscrape.com']\n",
    "    start_urls = ['http://quotes.toscrape.com/']\n",
    "    def parse(self, response):\n",
    "        quotes = response.css('.quote')\n",
    "        for quote in quotes:\n",
    "            yield {\n",
    "                'citation': quote.css('.text::text').get(),\n",
    "                'author': quote.css(\".author::text\").get(),\n",
    "                'tags':  quote.css(\".tag\").css(\"a::text\").getall()\n",
    "            }\n",
    "        further_results = response.xpath(\n",
    "            '//ul[@class=\"pager\"]//a[contains(text(),\"Next\")]//@href')\n",
    "        if further_results:\n",
    "            yield scrapy.Request(response.urljoin(further_results.get()))\n",
    "\n",
    "            \n",
    "        \n"
   ]
  },
  {
   "cell_type": "code",
   "execution_count": null,
   "metadata": {
    "collapsed": true
   },
   "outputs": [],
   "source": [
    "import json\n",
    "class ScrollQuotesSpider(scrapy.Spider):\n",
    "(...)\n",
    "def parse(self, response):\n",
    "data = json.loads(response.body)"
   ]
  }
 ],
 "metadata": {
  "kernelspec": {
   "display_name": "PY-Telegram",
   "language": "python",
   "name": "telegram"
  },
  "language_info": {
   "codemirror_mode": {
    "name": "ipython",
    "version": 3
   },
   "file_extension": ".py",
   "mimetype": "text/x-python",
   "name": "python",
   "nbconvert_exporter": "python",
   "pygments_lexer": "ipython3",
   "version": "3.7.2"
  }
 },
 "nbformat": 4,
 "nbformat_minor": 2
}
