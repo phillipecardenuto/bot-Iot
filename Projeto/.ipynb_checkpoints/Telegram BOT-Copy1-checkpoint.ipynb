{
 "cells": [
  {
   "cell_type": "markdown",
   "metadata": {},
   "source": [
    "# Telegram BOT\n",
    "## In this Notebook we aim to develop a simple I/O bot from Telegram\n"
   ]
  },
  {
   "cell_type": "markdown",
   "metadata": {},
   "source": [
    "![logo](https://raw.githubusercontent.com/python-telegram-bot/logos/master/logo-text/png/ptb-logo-text_768.png)"
   ]
  },
  {
   "cell_type": "markdown",
   "metadata": {},
   "source": [
    "We are using https://github.com/python-telegram-bot/python-telegram-bot api"
   ]
  },
  {
   "cell_type": "markdown",
   "metadata": {},
   "source": [
    "Introduction to the library https://github.com/python-telegram-bot/python-telegram-bot/wiki/Introduction-to-the-API"
   ]
  },
  {
   "cell_type": "code",
   "execution_count": 321,
   "metadata": {
    "collapsed": true
   },
   "outputs": [],
   "source": [
    "import logging\n",
    "logging.basicConfig(level=logging.DEBUG,\n",
    "                    format='%(asctime)s - %(name)s - %(levelname)s - %(message)s')\n",
    "logger = logging.getLogger()\n",
    "logger.setLevel(logging.INFO)"
   ]
  },
  {
   "cell_type": "code",
   "execution_count": 322,
   "metadata": {
    "collapsed": true
   },
   "outputs": [],
   "source": [
    "import telegram\n",
    "token_telegram = '666164429:AAFPkMnbqRKXqCPvv-OtycJ5K5y4RQ3k_U4'\n",
    "bot = telegram.Bot(token=token_telegram)"
   ]
  },
  {
   "cell_type": "code",
   "execution_count": 323,
   "metadata": {},
   "outputs": [
    {
     "name": "stdout",
     "output_type": "stream",
     "text": [
      "{'id': 666164429, 'first_name': 'SCIBOT', 'is_bot': True, 'username': 'sci_bot'}\n"
     ]
    }
   ],
   "source": [
    "print(bot.get_me())"
   ]
  },
  {
   "cell_type": "code",
   "execution_count": 324,
   "metadata": {
    "collapsed": true
   },
   "outputs": [],
   "source": [
    "updates = bot.get_updates()"
   ]
  },
  {
   "cell_type": "code",
   "execution_count": 325,
   "metadata": {},
   "outputs": [
    {
     "name": "stdout",
     "output_type": "stream",
     "text": [
      "[]\n"
     ]
    }
   ],
   "source": [
    "print([u.message.text for u in updates])"
   ]
  },
  {
   "cell_type": "code",
   "execution_count": 13,
   "metadata": {},
   "outputs": [
    {
     "data": {
      "text/plain": [
       "191481115"
      ]
     },
     "execution_count": 13,
     "metadata": {},
     "output_type": "execute_result"
    }
   ],
   "source": [
    "chat_id"
   ]
  },
  {
   "cell_type": "code",
   "execution_count": 16,
   "metadata": {},
   "outputs": [
    {
     "data": {
      "text/plain": [
       "<telegram.message.Message at 0x7fc5284c5eb8>"
      ]
     },
     "execution_count": 16,
     "metadata": {},
     "output_type": "execute_result"
    }
   ],
   "source": [
    "bot.send_message(chat_id,\"How about this?\")"
   ]
  },
  {
   "cell_type": "code",
   "execution_count": 17,
   "metadata": {},
   "outputs": [
    {
     "name": "stdout",
     "output_type": "stream",
     "text": [
      "['/start', 'dd']\n"
     ]
    }
   ],
   "source": [
    "updates = bot.get_updates()\n",
    "print([u.message.text for u in updates])"
   ]
  },
  {
   "cell_type": "code",
   "execution_count": 18,
   "metadata": {},
   "outputs": [
    {
     "data": {
      "text/plain": [
       "<telegram.message.Message at 0x7fc528510dd8>"
      ]
     },
     "execution_count": 18,
     "metadata": {},
     "output_type": "execute_result"
    }
   ],
   "source": [
    "bot.send_photo(chat_id=chat_id, photo='https://raw.githubusercontent.com/python-telegram-bot/logos/master/logo-text/png/ptb-logo-text_768.png')"
   ]
  },
  {
   "cell_type": "code",
   "execution_count": 20,
   "metadata": {},
   "outputs": [
    {
     "data": {
      "text/plain": [
       "<telegram.message.Message at 0x7fc5284d30f0>"
      ]
     },
     "execution_count": 20,
     "metadata": {},
     "output_type": "execute_result"
    }
   ],
   "source": [
    "bot.send_document(chat_id, document=open('07154457.pdf','rb'))"
   ]
  },
  {
   "cell_type": "markdown",
   "metadata": {},
   "source": [
    "## Mensage Handler"
   ]
  },
  {
   "cell_type": "code",
   "execution_count": 3,
   "metadata": {
    "collapsed": true
   },
   "outputs": [],
   "source": [
    "from telegram.ext import CommandHandler\n",
    "from telegram.ext import Updater\n",
    "bot_token = '666164429:AAFPkMnbqRKXqCPvv-OtycJ5K5y4RQ3k_U4'\n",
    "updater = Updater(token=bot_token)"
   ]
  },
  {
   "cell_type": "code",
   "execution_count": null,
   "metadata": {
    "collapsed": true
   },
   "outputs": [],
   "source": [
    "dispatcher =  updater.dispatcher"
   ]
  },
  {
   "cell_type": "markdown",
   "metadata": {},
   "source": [
    "#### Command Handler"
   ]
  },
  {
   "cell_type": "code",
   "execution_count": 15,
   "metadata": {
    "collapsed": true
   },
   "outputs": [],
   "source": [
    "from  subprocess import call"
   ]
  },
  {
   "cell_type": "code",
   "execution_count": 18,
   "metadata": {
    "collapsed": true
   },
   "outputs": [],
   "source": [
    "def blow_world(bot, update):\n",
    "    bot.send_message(chat_id=update.message.chat_id, text=\"BOOM!\")\n",
    "def turnoff(bot,update):\n",
    "    print(\"TURNING OFF\")\n",
    "    call(\"shutdown now -P\",shell=True)"
   ]
  },
  {
   "cell_type": "code",
   "execution_count": 9,
   "metadata": {
    "collapsed": true
   },
   "outputs": [],
   "source": [
    "blow_world_handler = CommandHandler('world', blow_world)\n",
    "dispatcher.add_handler(blow_world_handler)"
   ]
  },
  {
   "cell_type": "code",
   "execution_count": 19,
   "metadata": {
    "collapsed": true
   },
   "outputs": [],
   "source": [
    "off_handler = CommandHandler('turnoff', turnoff)\n",
    "dispatcher.add_handler(off_handler)"
   ]
  },
  {
   "cell_type": "code",
   "execution_count": 20,
   "metadata": {},
   "outputs": [
    {
     "name": "stdout",
     "output_type": "stream",
     "text": [
      "TURNING OFF\n"
     ]
    }
   ],
   "source": [
    "updater.start_polling() # Set It into the pool"
   ]
  },
  {
   "cell_type": "code",
   "execution_count": 6,
   "metadata": {
    "collapsed": true
   },
   "outputs": [],
   "source": [
    "from telegram.ext import MessageHandler, Filters\n",
    "blow_world_handler = MessageHandler(Filters.text, blow_world)\n",
    "dispatcher.add_handler(blow_world_handler)"
   ]
  },
  {
   "cell_type": "code",
   "execution_count": 7,
   "metadata": {},
   "outputs": [
    {
     "data": {
      "text/plain": [
       "{0: [<telegram.ext.messagehandler.MessageHandler at 0x7faae42cc2e8>]}"
      ]
     },
     "execution_count": 7,
     "metadata": {},
     "output_type": "execute_result"
    }
   ],
   "source": [
    "dispatcher.handlers"
   ]
  },
  {
   "cell_type": "code",
   "execution_count": 35,
   "metadata": {},
   "outputs": [
    {
     "data": {
      "text/plain": [
       "<telegram.ext.messagehandler.MessageHandler at 0x7fb91d964ba8>"
      ]
     },
     "execution_count": 35,
     "metadata": {},
     "output_type": "execute_result"
    }
   ],
   "source": [
    "blow_world_handler"
   ]
  },
  {
   "cell_type": "code",
   "execution_count": null,
   "metadata": {
    "collapsed": true
   },
   "outputs": [],
   "source": []
  },
  {
   "cell_type": "markdown",
   "metadata": {},
   "source": [
    "# MQTT BOT"
   ]
  },
  {
   "cell_type": "markdown",
   "metadata": {},
   "source": [
    "### Publisher"
   ]
  },
  {
   "cell_type": "code",
   "execution_count": 27,
   "metadata": {},
   "outputs": [
    {
     "data": {
      "text/plain": [
       "<paho.mqtt.client.MQTTMessageInfo at 0x7fcf2b3dc7c8>"
      ]
     },
     "execution_count": 27,
     "metadata": {},
     "output_type": "execute_result"
    }
   ],
   "source": [
    "import paho.mqtt.client as mqtt\n",
    "import json\n",
    "user = \"j9j976fenpqs\"\n",
    "password = \"IjzR8T18LJty\"\n",
    "publishAddress = \"data/j9j976fenpqs/pub/out\"\n",
    "\n",
    "\n",
    "# user = \"ou83rio3h43j\"\n",
    "# password = \"anioaDro9R87\"\n",
    "# publishAddress = \"data/ou83rio3h43j/pub/out\"\n",
    "\n",
    "client = mqtt.Client()\n",
    "client.username_pw_set(user, password)\n",
    "client.connect(\"mqtt.demo.konkerlabs.net\", 1883)\n",
    "client.publish(publishAddress, \n",
    "                 json.dumps({\"temperature\": 225, \"unit\": \"celsius\"}))"
   ]
  },
  {
   "cell_type": "markdown",
   "metadata": {},
   "source": [
    "### Subscriber"
   ]
  },
  {
   "cell_type": "code",
   "execution_count": null,
   "metadata": {},
   "outputs": [
    {
     "name": "stdout",
     "output_type": "stream",
     "text": [
      "Connected!\n",
      "data/ou83rio3h43j/sub/in b'{\"temperature\": 225, \"unit\": \"celsius\"}'\n",
      "data/ou83rio3h43j/sub/in b'{\"temperature\": \"BOOM!\", \"unit\": \"celsius\"}'\n"
     ]
    }
   ],
   "source": [
    "import paho.mqtt.client as mqtt\n",
    "import json\n",
    "\n",
    "user = \"ou83rio3h43j\"\n",
    "password = \"anioaDro9R87\"\n",
    "def on_connect(client, userdata, flags, rc):\n",
    "    print(\"Connected!\")\n",
    "    client.subscribe(\"data/ou83rio3h43j/sub/in\")\n",
    "\n",
    "def on_message(client, data, msg):\n",
    "    print(msg.topic + \" \" + str(msg.payload))\n",
    "\n",
    "\n",
    "client = mqtt.Client()\n",
    "client.on_message = on_message\n",
    "client.on_connect = on_connect\n",
    "client.username_pw_set(user, password)\n",
    "client.connect(\"mqtt.demo.konkerlabs.net\", 1883)\n",
    "client.loop_forever()"
   ]
  },
  {
   "cell_type": "markdown",
   "metadata": {},
   "source": [
    "# Scrapy"
   ]
  },
  {
   "cell_type": "code",
   "execution_count": 2,
   "metadata": {},
   "outputs": [],
   "source": [
    "import pandas as pd\n",
    "tables = pd.read_html(\"https://www.prefeitura.unicamp.br/apps/site/cardapio.php\")"
   ]
  },
  {
   "cell_type": "code",
   "execution_count": 326,
   "metadata": {},
   "outputs": [],
   "source": [
    "cardapio = tables[1].loc[2:].copy()\n",
    "cardapio_header = cardapio.iloc[0]\n",
    "cardapio_header.name = ''\n",
    "cardapio = pd.DataFrame(cardapio.values[1:], columns=cardapio_header)\n",
    "cafe = tables[1].loc[0:1].copy()\n",
    "cafe = cafe.drop(cafe.columns[1:],axis=1)\n",
    "cafe_header =cafe.iloc[0]\n",
    "cafe = cafe.iloc[1]\n",
    "cafe_header.name = ''\n",
    "cafe = pd.DataFrame(cafe.values, columns=cafe_header)\n",
    "cardapio = pd.concat([cardapio, cafe],axis=1)\n",
    "\n",
    "# REFEIÇÕES\n",
    "almoco = cardapio[\"Almoço\"].values[0].upper()\n",
    "almoco_veg = cardapio[\"Almoço Vegetariano\"].values[0].upper()\n",
    "jantar = cardapio[\"Jantar\"].values[0].upper()\n",
    "jantar_veg = cardapio[\"Jantar Vegetariano\"].values[0].upper()\n",
    "cafe = cardapio[\"Café da manhã\"].values[0].upper()"
   ]
  },
  {
   "cell_type": "code",
   "execution_count": 313,
   "metadata": {
    "collapsed": true
   },
   "outputs": [],
   "source": [
    "guarnicao = \"GUARNIÇÃO\"\n",
    "prato_principal = \"PRATO PRINCIPAL:\"\n",
    "salada = \"SALADA:\"\n",
    "sobremesa = \"SOBREMESA:\"\n",
    "suco = \"SUCO:\"\n",
    "obs = \"OBSERVAÇÕES:\"\n",
    "def extrai_refeicao(ref,ref_op):\n",
    "    if ref_op == guarnicao and prato_principal in ref :\n",
    "        return ref[0:ref.find(prato_principal)].strip()\n",
    "    if ref_op == prato_principal and prato_principal in ref and salada in ref:\n",
    "        pp = ref.find(prato_principal) + len(prato_principal)\n",
    "        return ref[pp:ref.find(salada)].strip()\n",
    "    elif ref_op == salada and salada in ref and sobremesa in ref:\n",
    "        sp = ref.find(salada) + len(salada)\n",
    "        return ref[sp:ref.find(sobremesa)].strip()\n",
    "    elif ref_op == sobremesa and sobremesa in ref and suco in ref:\n",
    "        sp = ref.find(sobremesa) + len(sobremesa)\n",
    "        return ref[sp:ref.find(suco)].strip()\n",
    "    elif ref_op == suco and suco in ref and obs in ref:\n",
    "        sp = ref.find(suco) + len(suco)\n",
    "        return ref[sp:ref.find(obs)].strip()\n",
    "    elif ref_op == obs and obs in ref:\n",
    "        op = ref.find(obs) + len(obs)\n",
    "        return ref[op:].strip()\n",
    "    else: return \"\""
   ]
  }
 ],
 "metadata": {
  "kernelspec": {
   "display_name": "PY-Telegram",
   "language": "python",
   "name": "telegram"
  },
  "language_info": {
   "codemirror_mode": {
    "name": "ipython",
    "version": 3
   },
   "file_extension": ".py",
   "mimetype": "text/x-python",
   "name": "python",
   "nbconvert_exporter": "python",
   "pygments_lexer": "ipython3",
   "version": "3.7.2"
  }
 },
 "nbformat": 4,
 "nbformat_minor": 2
}
